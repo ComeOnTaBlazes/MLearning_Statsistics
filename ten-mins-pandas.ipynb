{
 "cells": [
  {
   "cell_type": "markdown",
   "metadata": {},
   "source": [
    "# Pandas Tutorial\n",
    "\n",
    "10 minutes to pandas:\n",
    "https://pandas.pydata.org/pandas-docs/stable/user_guide/10min.html"
   ]
  },
  {
   "cell_type": "code",
   "execution_count": 1,
   "metadata": {},
   "outputs": [],
   "source": [
    "import numpy as np\n",
    "import pandas as pd"
   ]
  },
  {
   "cell_type": "markdown",
   "metadata": {},
   "source": [
    "To create a DataFrance, pass a NumPy array, here using a datetime index with labeled columns:"
   ]
  },
  {
   "cell_type": "code",
   "execution_count": 2,
   "metadata": {},
   "outputs": [],
   "source": [
    "#Create date range with lower bound as fist arg & period num to generate \n",
    "dates = pd.date_range(\"20130101\", periods=6)"
   ]
  },
  {
   "cell_type": "code",
   "execution_count": 4,
   "metadata": {},
   "outputs": [
    {
     "data": {
      "text/plain": [
       "DatetimeIndex(['2013-01-01', '2013-01-02', '2013-01-03', '2013-01-04',\n",
       "               '2013-01-05', '2013-01-06'],\n",
       "              dtype='datetime64[ns]', freq='D')"
      ]
     },
     "execution_count": 4,
     "metadata": {},
     "output_type": "execute_result"
    }
   ],
   "source": [
    "# view dates\n",
    "dates"
   ]
  },
  {
   "cell_type": "code",
   "execution_count": 7,
   "metadata": {},
   "outputs": [],
   "source": [
    "# randn gives vals in 6x$ array\n",
    "# index of the array is dates\n",
    "# column headers list ABCD\n",
    "df = pd.DataFrame(np.random.randn(6, 4), index=dates, columns=list(\"ABCD\"))"
   ]
  },
  {
   "cell_type": "code",
   "execution_count": 8,
   "metadata": {},
   "outputs": [
    {
     "data": {
      "text/html": [
       "<div>\n",
       "<style scoped>\n",
       "    .dataframe tbody tr th:only-of-type {\n",
       "        vertical-align: middle;\n",
       "    }\n",
       "\n",
       "    .dataframe tbody tr th {\n",
       "        vertical-align: top;\n",
       "    }\n",
       "\n",
       "    .dataframe thead th {\n",
       "        text-align: right;\n",
       "    }\n",
       "</style>\n",
       "<table border=\"1\" class=\"dataframe\">\n",
       "  <thead>\n",
       "    <tr style=\"text-align: right;\">\n",
       "      <th></th>\n",
       "      <th>A</th>\n",
       "      <th>B</th>\n",
       "      <th>C</th>\n",
       "      <th>D</th>\n",
       "    </tr>\n",
       "  </thead>\n",
       "  <tbody>\n",
       "    <tr>\n",
       "      <td>2013-01-01</td>\n",
       "      <td>-1.519393</td>\n",
       "      <td>0.112481</td>\n",
       "      <td>-0.349790</td>\n",
       "      <td>1.337715</td>\n",
       "    </tr>\n",
       "    <tr>\n",
       "      <td>2013-01-02</td>\n",
       "      <td>-0.282524</td>\n",
       "      <td>0.714655</td>\n",
       "      <td>0.683200</td>\n",
       "      <td>0.387617</td>\n",
       "    </tr>\n",
       "    <tr>\n",
       "      <td>2013-01-03</td>\n",
       "      <td>-1.299228</td>\n",
       "      <td>-1.463746</td>\n",
       "      <td>1.567786</td>\n",
       "      <td>0.240132</td>\n",
       "    </tr>\n",
       "    <tr>\n",
       "      <td>2013-01-04</td>\n",
       "      <td>-0.267967</td>\n",
       "      <td>1.118605</td>\n",
       "      <td>0.898064</td>\n",
       "      <td>-0.499973</td>\n",
       "    </tr>\n",
       "    <tr>\n",
       "      <td>2013-01-05</td>\n",
       "      <td>1.283482</td>\n",
       "      <td>-1.937413</td>\n",
       "      <td>-0.087112</td>\n",
       "      <td>-0.416447</td>\n",
       "    </tr>\n",
       "    <tr>\n",
       "      <td>2013-01-06</td>\n",
       "      <td>1.216430</td>\n",
       "      <td>-0.513104</td>\n",
       "      <td>-1.042482</td>\n",
       "      <td>0.469888</td>\n",
       "    </tr>\n",
       "  </tbody>\n",
       "</table>\n",
       "</div>"
      ],
      "text/plain": [
       "                   A         B         C         D\n",
       "2013-01-01 -1.519393  0.112481 -0.349790  1.337715\n",
       "2013-01-02 -0.282524  0.714655  0.683200  0.387617\n",
       "2013-01-03 -1.299228 -1.463746  1.567786  0.240132\n",
       "2013-01-04 -0.267967  1.118605  0.898064 -0.499973\n",
       "2013-01-05  1.283482 -1.937413 -0.087112 -0.416447\n",
       "2013-01-06  1.216430 -0.513104 -1.042482  0.469888"
      ]
     },
     "execution_count": 8,
     "metadata": {},
     "output_type": "execute_result"
    }
   ],
   "source": [
    "df"
   ]
  },
  {
   "cell_type": "markdown",
   "metadata": {},
   "source": [
    "Creating a dataframe from dict of objects:\n"
   ]
  },
  {
   "cell_type": "code",
   "execution_count": 9,
   "metadata": {},
   "outputs": [],
   "source": [
    "df2 = pd.DataFrame(\n",
    "    {\n",
    "        \"A\": 1.0,\n",
    "        \"B\": pd.Timestamp(\"20130102\"),\n",
    "        \"C\": pd.Series(1, index=list(range(4)), dtype=\"float32\"),\n",
    "        \"D\": np.array([3] * 4, dtype=\"int32\"),\n",
    "        \"E\": pd.Categorical([\"test\", \"train\", \"test\", \"train\"]),\n",
    "        \"F\": \"foo\",\n",
    "    }\n",
    ")"
   ]
  },
  {
   "cell_type": "code",
   "execution_count": 11,
   "metadata": {},
   "outputs": [
    {
     "data": {
      "text/plain": [
       "A           float64\n",
       "B    datetime64[ns]\n",
       "C           float32\n",
       "D             int32\n",
       "E          category\n",
       "F            object\n",
       "dtype: object"
      ]
     },
     "execution_count": 11,
     "metadata": {},
     "output_type": "execute_result"
    }
   ],
   "source": [
    "# Columns all have different data types\n",
    "df2.dtypes"
   ]
  },
  {
   "cell_type": "code",
   "execution_count": 12,
   "metadata": {},
   "outputs": [
    {
     "data": {
      "text/html": [
       "<div>\n",
       "<style scoped>\n",
       "    .dataframe tbody tr th:only-of-type {\n",
       "        vertical-align: middle;\n",
       "    }\n",
       "\n",
       "    .dataframe tbody tr th {\n",
       "        vertical-align: top;\n",
       "    }\n",
       "\n",
       "    .dataframe thead th {\n",
       "        text-align: right;\n",
       "    }\n",
       "</style>\n",
       "<table border=\"1\" class=\"dataframe\">\n",
       "  <thead>\n",
       "    <tr style=\"text-align: right;\">\n",
       "      <th></th>\n",
       "      <th>A</th>\n",
       "      <th>B</th>\n",
       "      <th>C</th>\n",
       "      <th>D</th>\n",
       "    </tr>\n",
       "  </thead>\n",
       "  <tbody>\n",
       "    <tr>\n",
       "      <td>2013-01-01</td>\n",
       "      <td>-1.519393</td>\n",
       "      <td>0.112481</td>\n",
       "      <td>-0.349790</td>\n",
       "      <td>1.337715</td>\n",
       "    </tr>\n",
       "    <tr>\n",
       "      <td>2013-01-02</td>\n",
       "      <td>-0.282524</td>\n",
       "      <td>0.714655</td>\n",
       "      <td>0.683200</td>\n",
       "      <td>0.387617</td>\n",
       "    </tr>\n",
       "    <tr>\n",
       "      <td>2013-01-03</td>\n",
       "      <td>-1.299228</td>\n",
       "      <td>-1.463746</td>\n",
       "      <td>1.567786</td>\n",
       "      <td>0.240132</td>\n",
       "    </tr>\n",
       "    <tr>\n",
       "      <td>2013-01-04</td>\n",
       "      <td>-0.267967</td>\n",
       "      <td>1.118605</td>\n",
       "      <td>0.898064</td>\n",
       "      <td>-0.499973</td>\n",
       "    </tr>\n",
       "    <tr>\n",
       "      <td>2013-01-05</td>\n",
       "      <td>1.283482</td>\n",
       "      <td>-1.937413</td>\n",
       "      <td>-0.087112</td>\n",
       "      <td>-0.416447</td>\n",
       "    </tr>\n",
       "  </tbody>\n",
       "</table>\n",
       "</div>"
      ],
      "text/plain": [
       "                   A         B         C         D\n",
       "2013-01-01 -1.519393  0.112481 -0.349790  1.337715\n",
       "2013-01-02 -0.282524  0.714655  0.683200  0.387617\n",
       "2013-01-03 -1.299228 -1.463746  1.567786  0.240132\n",
       "2013-01-04 -0.267967  1.118605  0.898064 -0.499973\n",
       "2013-01-05  1.283482 -1.937413 -0.087112 -0.416447"
      ]
     },
     "execution_count": 12,
     "metadata": {},
     "output_type": "execute_result"
    }
   ],
   "source": [
    "#view top rows\n",
    "df.head()"
   ]
  },
  {
   "cell_type": "code",
   "execution_count": 13,
   "metadata": {},
   "outputs": [
    {
     "data": {
      "text/html": [
       "<div>\n",
       "<style scoped>\n",
       "    .dataframe tbody tr th:only-of-type {\n",
       "        vertical-align: middle;\n",
       "    }\n",
       "\n",
       "    .dataframe tbody tr th {\n",
       "        vertical-align: top;\n",
       "    }\n",
       "\n",
       "    .dataframe thead th {\n",
       "        text-align: right;\n",
       "    }\n",
       "</style>\n",
       "<table border=\"1\" class=\"dataframe\">\n",
       "  <thead>\n",
       "    <tr style=\"text-align: right;\">\n",
       "      <th></th>\n",
       "      <th>A</th>\n",
       "      <th>B</th>\n",
       "      <th>C</th>\n",
       "      <th>D</th>\n",
       "    </tr>\n",
       "  </thead>\n",
       "  <tbody>\n",
       "    <tr>\n",
       "      <td>2013-01-02</td>\n",
       "      <td>-0.282524</td>\n",
       "      <td>0.714655</td>\n",
       "      <td>0.683200</td>\n",
       "      <td>0.387617</td>\n",
       "    </tr>\n",
       "    <tr>\n",
       "      <td>2013-01-03</td>\n",
       "      <td>-1.299228</td>\n",
       "      <td>-1.463746</td>\n",
       "      <td>1.567786</td>\n",
       "      <td>0.240132</td>\n",
       "    </tr>\n",
       "    <tr>\n",
       "      <td>2013-01-04</td>\n",
       "      <td>-0.267967</td>\n",
       "      <td>1.118605</td>\n",
       "      <td>0.898064</td>\n",
       "      <td>-0.499973</td>\n",
       "    </tr>\n",
       "    <tr>\n",
       "      <td>2013-01-05</td>\n",
       "      <td>1.283482</td>\n",
       "      <td>-1.937413</td>\n",
       "      <td>-0.087112</td>\n",
       "      <td>-0.416447</td>\n",
       "    </tr>\n",
       "    <tr>\n",
       "      <td>2013-01-06</td>\n",
       "      <td>1.216430</td>\n",
       "      <td>-0.513104</td>\n",
       "      <td>-1.042482</td>\n",
       "      <td>0.469888</td>\n",
       "    </tr>\n",
       "  </tbody>\n",
       "</table>\n",
       "</div>"
      ],
      "text/plain": [
       "                   A         B         C         D\n",
       "2013-01-02 -0.282524  0.714655  0.683200  0.387617\n",
       "2013-01-03 -1.299228 -1.463746  1.567786  0.240132\n",
       "2013-01-04 -0.267967  1.118605  0.898064 -0.499973\n",
       "2013-01-05  1.283482 -1.937413 -0.087112 -0.416447\n",
       "2013-01-06  1.216430 -0.513104 -1.042482  0.469888"
      ]
     },
     "execution_count": 13,
     "metadata": {},
     "output_type": "execute_result"
    }
   ],
   "source": [
    "#view bottom rows\n",
    "df.tail()"
   ]
  },
  {
   "cell_type": "code",
   "execution_count": 14,
   "metadata": {},
   "outputs": [
    {
     "data": {
      "text/html": [
       "<div>\n",
       "<style scoped>\n",
       "    .dataframe tbody tr th:only-of-type {\n",
       "        vertical-align: middle;\n",
       "    }\n",
       "\n",
       "    .dataframe tbody tr th {\n",
       "        vertical-align: top;\n",
       "    }\n",
       "\n",
       "    .dataframe thead th {\n",
       "        text-align: right;\n",
       "    }\n",
       "</style>\n",
       "<table border=\"1\" class=\"dataframe\">\n",
       "  <thead>\n",
       "    <tr style=\"text-align: right;\">\n",
       "      <th></th>\n",
       "      <th>A</th>\n",
       "      <th>B</th>\n",
       "      <th>C</th>\n",
       "      <th>D</th>\n",
       "    </tr>\n",
       "  </thead>\n",
       "  <tbody>\n",
       "    <tr>\n",
       "      <td>count</td>\n",
       "      <td>6.000000</td>\n",
       "      <td>6.000000</td>\n",
       "      <td>6.000000</td>\n",
       "      <td>6.000000</td>\n",
       "    </tr>\n",
       "    <tr>\n",
       "      <td>mean</td>\n",
       "      <td>-0.144866</td>\n",
       "      <td>-0.328087</td>\n",
       "      <td>0.278278</td>\n",
       "      <td>0.253155</td>\n",
       "    </tr>\n",
       "    <tr>\n",
       "      <td>std</td>\n",
       "      <td>1.195766</td>\n",
       "      <td>1.207329</td>\n",
       "      <td>0.946923</td>\n",
       "      <td>0.671872</td>\n",
       "    </tr>\n",
       "    <tr>\n",
       "      <td>min</td>\n",
       "      <td>-1.519393</td>\n",
       "      <td>-1.937413</td>\n",
       "      <td>-1.042482</td>\n",
       "      <td>-0.499973</td>\n",
       "    </tr>\n",
       "    <tr>\n",
       "      <td>25%</td>\n",
       "      <td>-1.045052</td>\n",
       "      <td>-1.226085</td>\n",
       "      <td>-0.284120</td>\n",
       "      <td>-0.252302</td>\n",
       "    </tr>\n",
       "    <tr>\n",
       "      <td>50%</td>\n",
       "      <td>-0.275245</td>\n",
       "      <td>-0.200311</td>\n",
       "      <td>0.298044</td>\n",
       "      <td>0.313875</td>\n",
       "    </tr>\n",
       "    <tr>\n",
       "      <td>75%</td>\n",
       "      <td>0.845331</td>\n",
       "      <td>0.564111</td>\n",
       "      <td>0.844348</td>\n",
       "      <td>0.449320</td>\n",
       "    </tr>\n",
       "    <tr>\n",
       "      <td>max</td>\n",
       "      <td>1.283482</td>\n",
       "      <td>1.118605</td>\n",
       "      <td>1.567786</td>\n",
       "      <td>1.337715</td>\n",
       "    </tr>\n",
       "  </tbody>\n",
       "</table>\n",
       "</div>"
      ],
      "text/plain": [
       "              A         B         C         D\n",
       "count  6.000000  6.000000  6.000000  6.000000\n",
       "mean  -0.144866 -0.328087  0.278278  0.253155\n",
       "std    1.195766  1.207329  0.946923  0.671872\n",
       "min   -1.519393 -1.937413 -1.042482 -0.499973\n",
       "25%   -1.045052 -1.226085 -0.284120 -0.252302\n",
       "50%   -0.275245 -0.200311  0.298044  0.313875\n",
       "75%    0.845331  0.564111  0.844348  0.449320\n",
       "max    1.283482  1.118605  1.567786  1.337715"
      ]
     },
     "execution_count": 14,
     "metadata": {},
     "output_type": "execute_result"
    }
   ],
   "source": [
    "#view descirption of data\n",
    "df.describe()"
   ]
  },
  {
   "cell_type": "code",
   "execution_count": 17,
   "metadata": {},
   "outputs": [
    {
     "name": "stdout",
     "output_type": "stream",
     "text": [
      "DatetimeIndex(['2013-01-01', '2013-01-02', '2013-01-03', '2013-01-04',\n",
      "               '2013-01-05', '2013-01-06'],\n",
      "              dtype='datetime64[ns]', freq='D')\n"
     ]
    },
    {
     "data": {
      "text/plain": [
       "Index(['A', 'B', 'C', 'D'], dtype='object')"
      ]
     },
     "execution_count": 17,
     "metadata": {},
     "output_type": "execute_result"
    }
   ],
   "source": [
    "# view index & columns of df\n",
    "print(df.index)\n",
    "df.columns"
   ]
  },
  {
   "cell_type": "code",
   "execution_count": 18,
   "metadata": {},
   "outputs": [
    {
     "data": {
      "text/plain": [
       "array([[-1.5193929 ,  0.11248104, -0.34979013,  1.33771474],\n",
       "       [-0.28252382,  0.71465458,  0.68320039,  0.3876173 ],\n",
       "       [-1.29922765, -1.4637458 ,  1.56778564,  0.24013186],\n",
       "       [-0.26796709,  1.11860521,  0.89806403, -0.49997337],\n",
       "       [ 1.2834824 , -1.93741304, -0.08711159, -0.41644706],\n",
       "       [ 1.21643033, -0.51310397, -1.04248239,  0.46988818]])"
      ]
     },
     "execution_count": 18,
     "metadata": {},
     "output_type": "execute_result"
    }
   ],
   "source": [
    "# representation of the underlying data in Numpy\n",
    "# Note: NumPy arrays have one dtype for the entire array, while pandas DataFrames have one dtype per column.\n",
    "# pandas will find the NumPy dtype that can hold all of the dtypes in the DataFrame\n",
    "# can be expensive\n",
    "df.to_numpy()"
   ]
  },
  {
   "cell_type": "code",
   "execution_count": 19,
   "metadata": {},
   "outputs": [
    {
     "data": {
      "text/html": [
       "<div>\n",
       "<style scoped>\n",
       "    .dataframe tbody tr th:only-of-type {\n",
       "        vertical-align: middle;\n",
       "    }\n",
       "\n",
       "    .dataframe tbody tr th {\n",
       "        vertical-align: top;\n",
       "    }\n",
       "\n",
       "    .dataframe thead th {\n",
       "        text-align: right;\n",
       "    }\n",
       "</style>\n",
       "<table border=\"1\" class=\"dataframe\">\n",
       "  <thead>\n",
       "    <tr style=\"text-align: right;\">\n",
       "      <th></th>\n",
       "      <th>2013-01-01</th>\n",
       "      <th>2013-01-02</th>\n",
       "      <th>2013-01-03</th>\n",
       "      <th>2013-01-04</th>\n",
       "      <th>2013-01-05</th>\n",
       "      <th>2013-01-06</th>\n",
       "    </tr>\n",
       "  </thead>\n",
       "  <tbody>\n",
       "    <tr>\n",
       "      <td>A</td>\n",
       "      <td>-1.519393</td>\n",
       "      <td>-0.282524</td>\n",
       "      <td>-1.299228</td>\n",
       "      <td>-0.267967</td>\n",
       "      <td>1.283482</td>\n",
       "      <td>1.216430</td>\n",
       "    </tr>\n",
       "    <tr>\n",
       "      <td>B</td>\n",
       "      <td>0.112481</td>\n",
       "      <td>0.714655</td>\n",
       "      <td>-1.463746</td>\n",
       "      <td>1.118605</td>\n",
       "      <td>-1.937413</td>\n",
       "      <td>-0.513104</td>\n",
       "    </tr>\n",
       "    <tr>\n",
       "      <td>C</td>\n",
       "      <td>-0.349790</td>\n",
       "      <td>0.683200</td>\n",
       "      <td>1.567786</td>\n",
       "      <td>0.898064</td>\n",
       "      <td>-0.087112</td>\n",
       "      <td>-1.042482</td>\n",
       "    </tr>\n",
       "    <tr>\n",
       "      <td>D</td>\n",
       "      <td>1.337715</td>\n",
       "      <td>0.387617</td>\n",
       "      <td>0.240132</td>\n",
       "      <td>-0.499973</td>\n",
       "      <td>-0.416447</td>\n",
       "      <td>0.469888</td>\n",
       "    </tr>\n",
       "  </tbody>\n",
       "</table>\n",
       "</div>"
      ],
      "text/plain": [
       "   2013-01-01  2013-01-02  2013-01-03  2013-01-04  2013-01-05  2013-01-06\n",
       "A   -1.519393   -0.282524   -1.299228   -0.267967    1.283482    1.216430\n",
       "B    0.112481    0.714655   -1.463746    1.118605   -1.937413   -0.513104\n",
       "C   -0.349790    0.683200    1.567786    0.898064   -0.087112   -1.042482\n",
       "D    1.337715    0.387617    0.240132   -0.499973   -0.416447    0.469888"
      ]
     },
     "execution_count": 19,
     "metadata": {},
     "output_type": "execute_result"
    }
   ],
   "source": [
    "# Transposing Data - Index will be on top\n",
    "df.T"
   ]
  },
  {
   "cell_type": "code",
   "execution_count": 22,
   "metadata": {},
   "outputs": [
    {
     "data": {
      "text/html": [
       "<div>\n",
       "<style scoped>\n",
       "    .dataframe tbody tr th:only-of-type {\n",
       "        vertical-align: middle;\n",
       "    }\n",
       "\n",
       "    .dataframe tbody tr th {\n",
       "        vertical-align: top;\n",
       "    }\n",
       "\n",
       "    .dataframe thead th {\n",
       "        text-align: right;\n",
       "    }\n",
       "</style>\n",
       "<table border=\"1\" class=\"dataframe\">\n",
       "  <thead>\n",
       "    <tr style=\"text-align: right;\">\n",
       "      <th></th>\n",
       "      <th>A</th>\n",
       "      <th>B</th>\n",
       "      <th>C</th>\n",
       "      <th>D</th>\n",
       "    </tr>\n",
       "  </thead>\n",
       "  <tbody>\n",
       "    <tr>\n",
       "      <td>2013-01-06</td>\n",
       "      <td>1.216430</td>\n",
       "      <td>-0.513104</td>\n",
       "      <td>-1.042482</td>\n",
       "      <td>0.469888</td>\n",
       "    </tr>\n",
       "    <tr>\n",
       "      <td>2013-01-05</td>\n",
       "      <td>1.283482</td>\n",
       "      <td>-1.937413</td>\n",
       "      <td>-0.087112</td>\n",
       "      <td>-0.416447</td>\n",
       "    </tr>\n",
       "    <tr>\n",
       "      <td>2013-01-04</td>\n",
       "      <td>-0.267967</td>\n",
       "      <td>1.118605</td>\n",
       "      <td>0.898064</td>\n",
       "      <td>-0.499973</td>\n",
       "    </tr>\n",
       "    <tr>\n",
       "      <td>2013-01-03</td>\n",
       "      <td>-1.299228</td>\n",
       "      <td>-1.463746</td>\n",
       "      <td>1.567786</td>\n",
       "      <td>0.240132</td>\n",
       "    </tr>\n",
       "    <tr>\n",
       "      <td>2013-01-02</td>\n",
       "      <td>-0.282524</td>\n",
       "      <td>0.714655</td>\n",
       "      <td>0.683200</td>\n",
       "      <td>0.387617</td>\n",
       "    </tr>\n",
       "    <tr>\n",
       "      <td>2013-01-01</td>\n",
       "      <td>-1.519393</td>\n",
       "      <td>0.112481</td>\n",
       "      <td>-0.349790</td>\n",
       "      <td>1.337715</td>\n",
       "    </tr>\n",
       "  </tbody>\n",
       "</table>\n",
       "</div>"
      ],
      "text/plain": [
       "                   A         B         C         D\n",
       "2013-01-06  1.216430 -0.513104 -1.042482  0.469888\n",
       "2013-01-05  1.283482 -1.937413 -0.087112 -0.416447\n",
       "2013-01-04 -0.267967  1.118605  0.898064 -0.499973\n",
       "2013-01-03 -1.299228 -1.463746  1.567786  0.240132\n",
       "2013-01-02 -0.282524  0.714655  0.683200  0.387617\n",
       "2013-01-01 -1.519393  0.112481 -0.349790  1.337715"
      ]
     },
     "execution_count": 22,
     "metadata": {},
     "output_type": "execute_result"
    }
   ],
   "source": [
    "# Sorting by Axis (rows (0) or cols (1))\n",
    "df.sort_index(axis=0, ascending=False)"
   ]
  },
  {
   "cell_type": "code",
   "execution_count": 24,
   "metadata": {},
   "outputs": [
    {
     "data": {
      "text/html": [
       "<div>\n",
       "<style scoped>\n",
       "    .dataframe tbody tr th:only-of-type {\n",
       "        vertical-align: middle;\n",
       "    }\n",
       "\n",
       "    .dataframe tbody tr th {\n",
       "        vertical-align: top;\n",
       "    }\n",
       "\n",
       "    .dataframe thead th {\n",
       "        text-align: right;\n",
       "    }\n",
       "</style>\n",
       "<table border=\"1\" class=\"dataframe\">\n",
       "  <thead>\n",
       "    <tr style=\"text-align: right;\">\n",
       "      <th></th>\n",
       "      <th>A</th>\n",
       "      <th>B</th>\n",
       "      <th>C</th>\n",
       "      <th>D</th>\n",
       "    </tr>\n",
       "  </thead>\n",
       "  <tbody>\n",
       "    <tr>\n",
       "      <td>2013-01-01</td>\n",
       "      <td>-1.519393</td>\n",
       "      <td>0.112481</td>\n",
       "      <td>-0.349790</td>\n",
       "      <td>1.337715</td>\n",
       "    </tr>\n",
       "    <tr>\n",
       "      <td>2013-01-03</td>\n",
       "      <td>-1.299228</td>\n",
       "      <td>-1.463746</td>\n",
       "      <td>1.567786</td>\n",
       "      <td>0.240132</td>\n",
       "    </tr>\n",
       "    <tr>\n",
       "      <td>2013-01-02</td>\n",
       "      <td>-0.282524</td>\n",
       "      <td>0.714655</td>\n",
       "      <td>0.683200</td>\n",
       "      <td>0.387617</td>\n",
       "    </tr>\n",
       "    <tr>\n",
       "      <td>2013-01-04</td>\n",
       "      <td>-0.267967</td>\n",
       "      <td>1.118605</td>\n",
       "      <td>0.898064</td>\n",
       "      <td>-0.499973</td>\n",
       "    </tr>\n",
       "    <tr>\n",
       "      <td>2013-01-06</td>\n",
       "      <td>1.216430</td>\n",
       "      <td>-0.513104</td>\n",
       "      <td>-1.042482</td>\n",
       "      <td>0.469888</td>\n",
       "    </tr>\n",
       "    <tr>\n",
       "      <td>2013-01-05</td>\n",
       "      <td>1.283482</td>\n",
       "      <td>-1.937413</td>\n",
       "      <td>-0.087112</td>\n",
       "      <td>-0.416447</td>\n",
       "    </tr>\n",
       "  </tbody>\n",
       "</table>\n",
       "</div>"
      ],
      "text/plain": [
       "                   A         B         C         D\n",
       "2013-01-01 -1.519393  0.112481 -0.349790  1.337715\n",
       "2013-01-03 -1.299228 -1.463746  1.567786  0.240132\n",
       "2013-01-02 -0.282524  0.714655  0.683200  0.387617\n",
       "2013-01-04 -0.267967  1.118605  0.898064 -0.499973\n",
       "2013-01-06  1.216430 -0.513104 -1.042482  0.469888\n",
       "2013-01-05  1.283482 -1.937413 -0.087112 -0.416447"
      ]
     },
     "execution_count": 24,
     "metadata": {},
     "output_type": "execute_result"
    }
   ],
   "source": [
    "# Sorting by values \n",
    "df.sort_values(by=\"A\")"
   ]
  },
  {
   "cell_type": "markdown",
   "metadata": {},
   "source": [
    "## Selection of Data"
   ]
  },
  {
   "cell_type": "code",
   "execution_count": 25,
   "metadata": {},
   "outputs": [
    {
     "data": {
      "text/plain": [
       "2013-01-01   -1.519393\n",
       "2013-01-02   -0.282524\n",
       "2013-01-03   -1.299228\n",
       "2013-01-04   -0.267967\n",
       "2013-01-05    1.283482\n",
       "2013-01-06    1.216430\n",
       "Freq: D, Name: A, dtype: float64"
      ]
     },
     "execution_count": 25,
     "metadata": {},
     "output_type": "execute_result"
    }
   ],
   "source": [
    "#Selecting a single column\n",
    "df[\"A\"]"
   ]
  },
  {
   "cell_type": "code",
   "execution_count": 26,
   "metadata": {},
   "outputs": [
    {
     "data": {
      "text/html": [
       "<div>\n",
       "<style scoped>\n",
       "    .dataframe tbody tr th:only-of-type {\n",
       "        vertical-align: middle;\n",
       "    }\n",
       "\n",
       "    .dataframe tbody tr th {\n",
       "        vertical-align: top;\n",
       "    }\n",
       "\n",
       "    .dataframe thead th {\n",
       "        text-align: right;\n",
       "    }\n",
       "</style>\n",
       "<table border=\"1\" class=\"dataframe\">\n",
       "  <thead>\n",
       "    <tr style=\"text-align: right;\">\n",
       "      <th></th>\n",
       "      <th>A</th>\n",
       "      <th>B</th>\n",
       "      <th>C</th>\n",
       "      <th>D</th>\n",
       "    </tr>\n",
       "  </thead>\n",
       "  <tbody>\n",
       "    <tr>\n",
       "      <td>2013-01-01</td>\n",
       "      <td>-1.519393</td>\n",
       "      <td>0.112481</td>\n",
       "      <td>-0.34979</td>\n",
       "      <td>1.337715</td>\n",
       "    </tr>\n",
       "    <tr>\n",
       "      <td>2013-01-02</td>\n",
       "      <td>-0.282524</td>\n",
       "      <td>0.714655</td>\n",
       "      <td>0.68320</td>\n",
       "      <td>0.387617</td>\n",
       "    </tr>\n",
       "  </tbody>\n",
       "</table>\n",
       "</div>"
      ],
      "text/plain": [
       "                   A         B        C         D\n",
       "2013-01-01 -1.519393  0.112481 -0.34979  1.337715\n",
       "2013-01-02 -0.282524  0.714655  0.68320  0.387617"
      ]
     },
     "execution_count": 26,
     "metadata": {},
     "output_type": "execute_result"
    }
   ],
   "source": [
    "# Can slice rows\n",
    "df[:2]"
   ]
  },
  {
   "cell_type": "code",
   "execution_count": 27,
   "metadata": {},
   "outputs": [
    {
     "data": {
      "text/html": [
       "<div>\n",
       "<style scoped>\n",
       "    .dataframe tbody tr th:only-of-type {\n",
       "        vertical-align: middle;\n",
       "    }\n",
       "\n",
       "    .dataframe tbody tr th {\n",
       "        vertical-align: top;\n",
       "    }\n",
       "\n",
       "    .dataframe thead th {\n",
       "        text-align: right;\n",
       "    }\n",
       "</style>\n",
       "<table border=\"1\" class=\"dataframe\">\n",
       "  <thead>\n",
       "    <tr style=\"text-align: right;\">\n",
       "      <th></th>\n",
       "      <th>A</th>\n",
       "      <th>B</th>\n",
       "      <th>C</th>\n",
       "      <th>D</th>\n",
       "    </tr>\n",
       "  </thead>\n",
       "  <tbody>\n",
       "    <tr>\n",
       "      <td>2013-01-02</td>\n",
       "      <td>-0.282524</td>\n",
       "      <td>0.714655</td>\n",
       "      <td>0.683200</td>\n",
       "      <td>0.387617</td>\n",
       "    </tr>\n",
       "    <tr>\n",
       "      <td>2013-01-03</td>\n",
       "      <td>-1.299228</td>\n",
       "      <td>-1.463746</td>\n",
       "      <td>1.567786</td>\n",
       "      <td>0.240132</td>\n",
       "    </tr>\n",
       "    <tr>\n",
       "      <td>2013-01-04</td>\n",
       "      <td>-0.267967</td>\n",
       "      <td>1.118605</td>\n",
       "      <td>0.898064</td>\n",
       "      <td>-0.499973</td>\n",
       "    </tr>\n",
       "  </tbody>\n",
       "</table>\n",
       "</div>"
      ],
      "text/plain": [
       "                   A         B         C         D\n",
       "2013-01-02 -0.282524  0.714655  0.683200  0.387617\n",
       "2013-01-03 -1.299228 -1.463746  1.567786  0.240132\n",
       "2013-01-04 -0.267967  1.118605  0.898064 -0.499973"
      ]
     },
     "execution_count": 27,
     "metadata": {},
     "output_type": "execute_result"
    }
   ],
   "source": [
    "# Can slice by index\n",
    "df[\"20130102\":\"20130104\"]"
   ]
  },
  {
   "cell_type": "markdown",
   "metadata": {},
   "source": [
    "#### Selecting by label"
   ]
  },
  {
   "cell_type": "code",
   "execution_count": 30,
   "metadata": {},
   "outputs": [
    {
     "data": {
      "text/plain": [
       "A   -1.519393\n",
       "B    0.112481\n",
       "C   -0.349790\n",
       "D    1.337715\n",
       "Name: 2013-01-01 00:00:00, dtype: float64"
      ]
     },
     "execution_count": 30,
     "metadata": {},
     "output_type": "execute_result"
    }
   ],
   "source": [
    "# Use df.loc for label, below first row\n",
    "df.loc[dates[0]]"
   ]
  },
  {
   "cell_type": "code",
   "execution_count": 36,
   "metadata": {},
   "outputs": [
    {
     "data": {
      "text/html": [
       "<div>\n",
       "<style scoped>\n",
       "    .dataframe tbody tr th:only-of-type {\n",
       "        vertical-align: middle;\n",
       "    }\n",
       "\n",
       "    .dataframe tbody tr th {\n",
       "        vertical-align: top;\n",
       "    }\n",
       "\n",
       "    .dataframe thead th {\n",
       "        text-align: right;\n",
       "    }\n",
       "</style>\n",
       "<table border=\"1\" class=\"dataframe\">\n",
       "  <thead>\n",
       "    <tr style=\"text-align: right;\">\n",
       "      <th></th>\n",
       "      <th>A</th>\n",
       "      <th>B</th>\n",
       "    </tr>\n",
       "  </thead>\n",
       "  <tbody>\n",
       "    <tr>\n",
       "      <td>2013-01-01</td>\n",
       "      <td>-1.519393</td>\n",
       "      <td>0.112481</td>\n",
       "    </tr>\n",
       "    <tr>\n",
       "      <td>2013-01-02</td>\n",
       "      <td>-0.282524</td>\n",
       "      <td>0.714655</td>\n",
       "    </tr>\n",
       "    <tr>\n",
       "      <td>2013-01-03</td>\n",
       "      <td>-1.299228</td>\n",
       "      <td>-1.463746</td>\n",
       "    </tr>\n",
       "    <tr>\n",
       "      <td>2013-01-04</td>\n",
       "      <td>-0.267967</td>\n",
       "      <td>1.118605</td>\n",
       "    </tr>\n",
       "    <tr>\n",
       "      <td>2013-01-05</td>\n",
       "      <td>1.283482</td>\n",
       "      <td>-1.937413</td>\n",
       "    </tr>\n",
       "    <tr>\n",
       "      <td>2013-01-06</td>\n",
       "      <td>1.216430</td>\n",
       "      <td>-0.513104</td>\n",
       "    </tr>\n",
       "  </tbody>\n",
       "</table>\n",
       "</div>"
      ],
      "text/plain": [
       "                   A         B\n",
       "2013-01-01 -1.519393  0.112481\n",
       "2013-01-02 -0.282524  0.714655\n",
       "2013-01-03 -1.299228 -1.463746\n",
       "2013-01-04 -0.267967  1.118605\n",
       "2013-01-05  1.283482 -1.937413\n",
       "2013-01-06  1.216430 -0.513104"
      ]
     },
     "execution_count": 36,
     "metadata": {},
     "output_type": "execute_result"
    }
   ],
   "source": [
    "# Selecting multi-axis by label\n",
    "df.loc[:, [\"A\",\"B\"]]"
   ]
  },
  {
   "cell_type": "code",
   "execution_count": 37,
   "metadata": {},
   "outputs": [
    {
     "data": {
      "text/html": [
       "<div>\n",
       "<style scoped>\n",
       "    .dataframe tbody tr th:only-of-type {\n",
       "        vertical-align: middle;\n",
       "    }\n",
       "\n",
       "    .dataframe tbody tr th {\n",
       "        vertical-align: top;\n",
       "    }\n",
       "\n",
       "    .dataframe thead th {\n",
       "        text-align: right;\n",
       "    }\n",
       "</style>\n",
       "<table border=\"1\" class=\"dataframe\">\n",
       "  <thead>\n",
       "    <tr style=\"text-align: right;\">\n",
       "      <th></th>\n",
       "      <th>A</th>\n",
       "      <th>B</th>\n",
       "    </tr>\n",
       "  </thead>\n",
       "  <tbody>\n",
       "    <tr>\n",
       "      <td>2013-01-02</td>\n",
       "      <td>-0.282524</td>\n",
       "      <td>0.714655</td>\n",
       "    </tr>\n",
       "    <tr>\n",
       "      <td>2013-01-03</td>\n",
       "      <td>-1.299228</td>\n",
       "      <td>-1.463746</td>\n",
       "    </tr>\n",
       "    <tr>\n",
       "      <td>2013-01-04</td>\n",
       "      <td>-0.267967</td>\n",
       "      <td>1.118605</td>\n",
       "    </tr>\n",
       "  </tbody>\n",
       "</table>\n",
       "</div>"
      ],
      "text/plain": [
       "                   A         B\n",
       "2013-01-02 -0.282524  0.714655\n",
       "2013-01-03 -1.299228 -1.463746\n",
       "2013-01-04 -0.267967  1.118605"
      ]
     },
     "execution_count": 37,
     "metadata": {},
     "output_type": "execute_result"
    }
   ],
   "source": [
    "# Can slice by index label, both endpoints included\n",
    "df.loc[\"20130102\":\"20130104\", [\"A\", \"B\"]]"
   ]
  },
  {
   "cell_type": "markdown",
   "metadata": {},
   "source": [
    "#### Selection by Position"
   ]
  },
  {
   "cell_type": "code",
   "execution_count": 39,
   "metadata": {},
   "outputs": [
    {
     "data": {
      "text/plain": [
       "A   -0.267967\n",
       "B    1.118605\n",
       "C    0.898064\n",
       "D   -0.499973\n",
       "Name: 2013-01-04 00:00:00, dtype: float64"
      ]
     },
     "execution_count": 39,
     "metadata": {},
     "output_type": "execute_result"
    }
   ],
   "source": [
    "# iloc is used\n",
    "df.iloc[3]"
   ]
  },
  {
   "cell_type": "code",
   "execution_count": 43,
   "metadata": {},
   "outputs": [
    {
     "data": {
      "text/html": [
       "<div>\n",
       "<style scoped>\n",
       "    .dataframe tbody tr th:only-of-type {\n",
       "        vertical-align: middle;\n",
       "    }\n",
       "\n",
       "    .dataframe tbody tr th {\n",
       "        vertical-align: top;\n",
       "    }\n",
       "\n",
       "    .dataframe thead th {\n",
       "        text-align: right;\n",
       "    }\n",
       "</style>\n",
       "<table border=\"1\" class=\"dataframe\">\n",
       "  <thead>\n",
       "    <tr style=\"text-align: right;\">\n",
       "      <th></th>\n",
       "      <th>A</th>\n",
       "      <th>B</th>\n",
       "    </tr>\n",
       "  </thead>\n",
       "  <tbody>\n",
       "    <tr>\n",
       "      <td>2013-01-04</td>\n",
       "      <td>-0.267967</td>\n",
       "      <td>1.118605</td>\n",
       "    </tr>\n",
       "    <tr>\n",
       "      <td>2013-01-05</td>\n",
       "      <td>1.283482</td>\n",
       "      <td>-1.937413</td>\n",
       "    </tr>\n",
       "  </tbody>\n",
       "</table>\n",
       "</div>"
      ],
      "text/plain": [
       "                   A         B\n",
       "2013-01-04 -0.267967  1.118605\n",
       "2013-01-05  1.283482 -1.937413"
      ]
     },
     "execution_count": 43,
     "metadata": {},
     "output_type": "execute_result"
    }
   ],
   "source": [
    "# can slice by integer, 3rd & 4th rows, cols 0 & 1\n",
    "df.iloc[3:5, 0:2]"
   ]
  },
  {
   "cell_type": "code",
   "execution_count": 44,
   "metadata": {},
   "outputs": [
    {
     "data": {
      "text/html": [
       "<div>\n",
       "<style scoped>\n",
       "    .dataframe tbody tr th:only-of-type {\n",
       "        vertical-align: middle;\n",
       "    }\n",
       "\n",
       "    .dataframe tbody tr th {\n",
       "        vertical-align: top;\n",
       "    }\n",
       "\n",
       "    .dataframe thead th {\n",
       "        text-align: right;\n",
       "    }\n",
       "</style>\n",
       "<table border=\"1\" class=\"dataframe\">\n",
       "  <thead>\n",
       "    <tr style=\"text-align: right;\">\n",
       "      <th></th>\n",
       "      <th>A</th>\n",
       "      <th>C</th>\n",
       "    </tr>\n",
       "  </thead>\n",
       "  <tbody>\n",
       "    <tr>\n",
       "      <td>2013-01-02</td>\n",
       "      <td>-0.282524</td>\n",
       "      <td>0.683200</td>\n",
       "    </tr>\n",
       "    <tr>\n",
       "      <td>2013-01-03</td>\n",
       "      <td>-1.299228</td>\n",
       "      <td>1.567786</td>\n",
       "    </tr>\n",
       "    <tr>\n",
       "      <td>2013-01-05</td>\n",
       "      <td>1.283482</td>\n",
       "      <td>-0.087112</td>\n",
       "    </tr>\n",
       "  </tbody>\n",
       "</table>\n",
       "</div>"
      ],
      "text/plain": [
       "                   A         C\n",
       "2013-01-02 -0.282524  0.683200\n",
       "2013-01-03 -1.299228  1.567786\n",
       "2013-01-05  1.283482 -0.087112"
      ]
     },
     "execution_count": 44,
     "metadata": {},
     "output_type": "execute_result"
    }
   ],
   "source": [
    "# by list of int positions, rows 1,2 & 4, cols 0 & 1\n",
    "df.iloc[[1, 2, 4], [0, 2]]"
   ]
  },
  {
   "cell_type": "code",
   "execution_count": 46,
   "metadata": {},
   "outputs": [
    {
     "data": {
      "text/html": [
       "<div>\n",
       "<style scoped>\n",
       "    .dataframe tbody tr th:only-of-type {\n",
       "        vertical-align: middle;\n",
       "    }\n",
       "\n",
       "    .dataframe tbody tr th {\n",
       "        vertical-align: top;\n",
       "    }\n",
       "\n",
       "    .dataframe thead th {\n",
       "        text-align: right;\n",
       "    }\n",
       "</style>\n",
       "<table border=\"1\" class=\"dataframe\">\n",
       "  <thead>\n",
       "    <tr style=\"text-align: right;\">\n",
       "      <th></th>\n",
       "      <th>B</th>\n",
       "      <th>C</th>\n",
       "    </tr>\n",
       "  </thead>\n",
       "  <tbody>\n",
       "    <tr>\n",
       "      <td>2013-01-01</td>\n",
       "      <td>0.112481</td>\n",
       "      <td>-0.349790</td>\n",
       "    </tr>\n",
       "    <tr>\n",
       "      <td>2013-01-02</td>\n",
       "      <td>0.714655</td>\n",
       "      <td>0.683200</td>\n",
       "    </tr>\n",
       "    <tr>\n",
       "      <td>2013-01-03</td>\n",
       "      <td>-1.463746</td>\n",
       "      <td>1.567786</td>\n",
       "    </tr>\n",
       "    <tr>\n",
       "      <td>2013-01-04</td>\n",
       "      <td>1.118605</td>\n",
       "      <td>0.898064</td>\n",
       "    </tr>\n",
       "    <tr>\n",
       "      <td>2013-01-05</td>\n",
       "      <td>-1.937413</td>\n",
       "      <td>-0.087112</td>\n",
       "    </tr>\n",
       "    <tr>\n",
       "      <td>2013-01-06</td>\n",
       "      <td>-0.513104</td>\n",
       "      <td>-1.042482</td>\n",
       "    </tr>\n",
       "  </tbody>\n",
       "</table>\n",
       "</div>"
      ],
      "text/plain": [
       "                   B         C\n",
       "2013-01-01  0.112481 -0.349790\n",
       "2013-01-02  0.714655  0.683200\n",
       "2013-01-03 -1.463746  1.567786\n",
       "2013-01-04  1.118605  0.898064\n",
       "2013-01-05 -1.937413 -0.087112\n",
       "2013-01-06 -0.513104 -1.042482"
      ]
     },
     "execution_count": 46,
     "metadata": {},
     "output_type": "execute_result"
    }
   ],
   "source": [
    "#can slice  rows or cols explicitly, below cols\n",
    "df.iloc[:, 1:3]"
   ]
  },
  {
   "cell_type": "markdown",
   "metadata": {},
   "source": [
    "#### Boolean indexing"
   ]
  },
  {
   "cell_type": "code",
   "execution_count": 47,
   "metadata": {},
   "outputs": [
    {
     "data": {
      "text/html": [
       "<div>\n",
       "<style scoped>\n",
       "    .dataframe tbody tr th:only-of-type {\n",
       "        vertical-align: middle;\n",
       "    }\n",
       "\n",
       "    .dataframe tbody tr th {\n",
       "        vertical-align: top;\n",
       "    }\n",
       "\n",
       "    .dataframe thead th {\n",
       "        text-align: right;\n",
       "    }\n",
       "</style>\n",
       "<table border=\"1\" class=\"dataframe\">\n",
       "  <thead>\n",
       "    <tr style=\"text-align: right;\">\n",
       "      <th></th>\n",
       "      <th>A</th>\n",
       "      <th>B</th>\n",
       "      <th>C</th>\n",
       "      <th>D</th>\n",
       "    </tr>\n",
       "  </thead>\n",
       "  <tbody>\n",
       "    <tr>\n",
       "      <td>2013-01-05</td>\n",
       "      <td>1.283482</td>\n",
       "      <td>-1.937413</td>\n",
       "      <td>-0.087112</td>\n",
       "      <td>-0.416447</td>\n",
       "    </tr>\n",
       "    <tr>\n",
       "      <td>2013-01-06</td>\n",
       "      <td>1.216430</td>\n",
       "      <td>-0.513104</td>\n",
       "      <td>-1.042482</td>\n",
       "      <td>0.469888</td>\n",
       "    </tr>\n",
       "  </tbody>\n",
       "</table>\n",
       "</div>"
      ],
      "text/plain": [
       "                   A         B         C         D\n",
       "2013-01-05  1.283482 -1.937413 -0.087112 -0.416447\n",
       "2013-01-06  1.216430 -0.513104 -1.042482  0.469888"
      ]
     },
     "execution_count": 47,
     "metadata": {},
     "output_type": "execute_result"
    }
   ],
   "source": [
    "# Using a single column’s values to select data\n",
    "df[df[\"A\"] > 0]"
   ]
  },
  {
   "cell_type": "code",
   "execution_count": 49,
   "metadata": {},
   "outputs": [
    {
     "data": {
      "text/html": [
       "<div>\n",
       "<style scoped>\n",
       "    .dataframe tbody tr th:only-of-type {\n",
       "        vertical-align: middle;\n",
       "    }\n",
       "\n",
       "    .dataframe tbody tr th {\n",
       "        vertical-align: top;\n",
       "    }\n",
       "\n",
       "    .dataframe thead th {\n",
       "        text-align: right;\n",
       "    }\n",
       "</style>\n",
       "<table border=\"1\" class=\"dataframe\">\n",
       "  <thead>\n",
       "    <tr style=\"text-align: right;\">\n",
       "      <th></th>\n",
       "      <th>A</th>\n",
       "      <th>B</th>\n",
       "      <th>C</th>\n",
       "      <th>D</th>\n",
       "    </tr>\n",
       "  </thead>\n",
       "  <tbody>\n",
       "    <tr>\n",
       "      <td>2013-01-01</td>\n",
       "      <td>NaN</td>\n",
       "      <td>0.112481</td>\n",
       "      <td>NaN</td>\n",
       "      <td>1.337715</td>\n",
       "    </tr>\n",
       "    <tr>\n",
       "      <td>2013-01-02</td>\n",
       "      <td>NaN</td>\n",
       "      <td>0.714655</td>\n",
       "      <td>0.683200</td>\n",
       "      <td>0.387617</td>\n",
       "    </tr>\n",
       "    <tr>\n",
       "      <td>2013-01-03</td>\n",
       "      <td>NaN</td>\n",
       "      <td>NaN</td>\n",
       "      <td>1.567786</td>\n",
       "      <td>0.240132</td>\n",
       "    </tr>\n",
       "    <tr>\n",
       "      <td>2013-01-04</td>\n",
       "      <td>NaN</td>\n",
       "      <td>1.118605</td>\n",
       "      <td>0.898064</td>\n",
       "      <td>NaN</td>\n",
       "    </tr>\n",
       "    <tr>\n",
       "      <td>2013-01-05</td>\n",
       "      <td>1.283482</td>\n",
       "      <td>NaN</td>\n",
       "      <td>NaN</td>\n",
       "      <td>NaN</td>\n",
       "    </tr>\n",
       "    <tr>\n",
       "      <td>2013-01-06</td>\n",
       "      <td>1.216430</td>\n",
       "      <td>NaN</td>\n",
       "      <td>NaN</td>\n",
       "      <td>0.469888</td>\n",
       "    </tr>\n",
       "  </tbody>\n",
       "</table>\n",
       "</div>"
      ],
      "text/plain": [
       "                   A         B         C         D\n",
       "2013-01-01       NaN  0.112481       NaN  1.337715\n",
       "2013-01-02       NaN  0.714655  0.683200  0.387617\n",
       "2013-01-03       NaN       NaN  1.567786  0.240132\n",
       "2013-01-04       NaN  1.118605  0.898064       NaN\n",
       "2013-01-05  1.283482       NaN       NaN       NaN\n",
       "2013-01-06  1.216430       NaN       NaN  0.469888"
      ]
     },
     "execution_count": 49,
     "metadata": {},
     "output_type": "execute_result"
    }
   ],
   "source": [
    "# Selecting values from a DataFrame where a boolean condition is met\n",
    "df[df > 0]"
   ]
  },
  {
   "cell_type": "code",
   "execution_count": null,
   "metadata": {},
   "outputs": [],
   "source": []
  },
  {
   "cell_type": "code",
   "execution_count": null,
   "metadata": {},
   "outputs": [],
   "source": []
  }
 ],
 "metadata": {
  "kernelspec": {
   "display_name": "Python 3",
   "language": "python",
   "name": "python3"
  },
  "language_info": {
   "codemirror_mode": {
    "name": "ipython",
    "version": 3
   },
   "file_extension": ".py",
   "mimetype": "text/x-python",
   "name": "python",
   "nbconvert_exporter": "python",
   "pygments_lexer": "ipython3",
   "version": "3.7.4"
  }
 },
 "nbformat": 4,
 "nbformat_minor": 4
}
