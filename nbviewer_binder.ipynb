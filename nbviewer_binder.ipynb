{
 "cells": [
  {
   "cell_type": "markdown",
   "metadata": {},
   "source": [
    "### nbviewer\n",
    "https://nbviewer.org/\n",
    "\n",
    "Used for sharing Jupyter Notebooks with others, let them view the notebook in static form.\n",
    "\n",
    "\n",
    "https://nbviewer.org/gist/rpmuller/5920182\n",
    "\n"
   ]
  },
  {
   "cell_type": "markdown",
   "metadata": {},
   "source": [
    "You paste in your Github repo into the bar on nbviewer, this give you a URL which you can share with other. \n",
    "\n",
    "They can view in static form.\n",
    "\n",
    "There is a nbviewer badge, code is below, use in your readme.md, can be \n",
    "\n",
    "[![nbviewer](https://raw.githubusercontent.com/jupyter/design/master/logos/Badges/nbviewer_badge.svg)](_https link you want the badge to show_)\n"
   ]
  },
  {
   "cell_type": "markdown",
   "metadata": {},
   "source": [
    "### Binder\n",
    "https://mybinder.org/\n",
    "\n",
    "Used in conjunction with nbviewer, at the top of the page, lets you run python code on a virtual machine.\n",
    "\n",
    "requirements.txt is used to import any libraries that are not in Binder i.e pandas, numpy, matplotlib... etc\n",
    "\n",
    "link requirements to Binder by:\n",
    "\n",
    "\n",
    "\n",
    "Binder has the markdown code for a badge to be used in reradmes or Jupyter cells:\n",
    "\n",
    "[![Binder](https://mybinder.org/badge_logo.svg)](https://mybinder.org/v2/gh/ComeOnTaBlazes/FoDA_Project/HEAD)"
   ]
  },
  {
   "cell_type": "code",
   "execution_count": null,
   "metadata": {},
   "outputs": [],
   "source": []
  },
  {
   "cell_type": "code",
   "execution_count": null,
   "metadata": {},
   "outputs": [],
   "source": []
  },
  {
   "cell_type": "code",
   "execution_count": null,
   "metadata": {},
   "outputs": [],
   "source": []
  },
  {
   "cell_type": "code",
   "execution_count": null,
   "metadata": {},
   "outputs": [],
   "source": []
  }
 ],
 "metadata": {
  "kernelspec": {
   "display_name": "Python 3",
   "language": "python",
   "name": "python3"
  },
  "language_info": {
   "codemirror_mode": {
    "name": "ipython",
    "version": 3
   },
   "file_extension": ".py",
   "mimetype": "text/x-python",
   "name": "python",
   "nbconvert_exporter": "python",
   "pygments_lexer": "ipython3",
   "version": "3.7.4"
  }
 },
 "nbformat": 4,
 "nbformat_minor": 4
}
