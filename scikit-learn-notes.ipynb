{
 "cells": [
  {
   "cell_type": "markdown",
   "metadata": {},
   "source": [
    "# Scikit-Learn Package"
   ]
  },
  {
   "cell_type": "markdown",
   "metadata": {},
   "source": [
    "tutorials:\n",
    "https://scikit-learn.org/stable/tutorial/index.html\n",
    "\n",
    "tensorflow (neural networks):\n",
    "https://www.tensorflow.org/learn\n",
    "\n",
    "kearas:\n",
    "https://keras.io/\n",
    "interface for tensorflow"
   ]
  },
  {
   "cell_type": "markdown",
   "metadata": {},
   "source": [
    "optimization is at the core of machine learning\n",
    "\n",
    "scikit learn - can be used to assist learning the theory by using it and figuring it out.\n",
    "\n",
    "begin with applied method of machine learning - use the packages to learn the techniques.\n",
    "\n"
   ]
  },
  {
   "cell_type": "markdown",
   "metadata": {},
   "source": [
    "### Learning with Scikit learn\n",
    "\n",
    "\n",
    "\n",
    "learning falls into certain categories:\n",
    "- Supervised Learning\n",
    "https://scikit-learn.org/stable/supervised_learning.html#supervised-learning\n",
    "    Data comes with attributes we want to predict, can be either:\n",
    "    Classification (KNN?) \n",
    "        samples belong to two or more classes and learns from already labeled data how to predict the class of unlabeled data. \n",
    "        eg: Handwritten digit recognition, which aims to assign each inout vetor to one of a finite number of discrete cateogries. \n",
    "        Can be thought of as a discrete (not continuous) form of supervied learning where one has a limited number of categories and each sample\n",
    "        provided has to be labeled within the correct category.\n",
    "        \n",
    "    Regression (fitting a line). \n",
    "        If desired output consists of one or more continuous variables, then task is called regression. \n",
    "        eg: preditcion of length of a salmpn as a function of it's length and weight.\n",
    "  \n",
    "- Unsupervised Learning\n",
    "https://scikit-learn.org/stable/unsupervised_learning.html#unsupervised-learning\n",
    "    training data consits of a set of input vectors _x_ without and corresponding target values\n",
    "    goal may be to discover groups of similar examples within the data, called clustering\n",
    "    density estimateion - determine the distribution of data within the input space\n",
    "    \n",
    "Machine learning is about learning some properties of a data set and then ttesting those properties against another data set.\n",
    "\n",
    "Dataset loading utilities:\n",
    "https://scikit-learn.org/stable/datasets.html#datasets\n",
    "\n",
    "\n"
   ]
  },
  {
   "cell_type": "code",
   "execution_count": 1,
   "metadata": {},
   "outputs": [],
   "source": [
    "# load a dataset from scikit-learn\n",
    "from sklearn import datasets\n",
    "iris = datasets.load_iris()\n",
    "digits = datasets.load_digits()"
   ]
  },
  {
   "cell_type": "code",
   "execution_count": 5,
   "metadata": {},
   "outputs": [
    {
     "name": "stdout",
     "output_type": "stream",
     "text": [
      "[0 1 2 ... 8 9 8]\n"
     ]
    }
   ],
   "source": [
    "# print digits.data acces to features that can be used to classify the digits samples\n",
    "print(digits.data)"
   ]
  },
  {
   "cell_type": "code",
   "execution_count": 6,
   "metadata": {},
   "outputs": [
    {
     "name": "stdout",
     "output_type": "stream",
     "text": [
      "[0 1 2 ... 8 9 8]\n"
     ]
    }
   ],
   "source": [
    "# give ground truth for the digit dataset\n",
    "print(digits.target)"
   ]
  },
  {
   "cell_type": "code",
   "execution_count": null,
   "metadata": {},
   "outputs": [],
   "source": []
  },
  {
   "cell_type": "markdown",
   "metadata": {},
   "source": [
    "# Learning and Predicting\n",
    "    Digits dataset - predict, given an image, which digit it represents. \n",
    "\n",
    "    Given samples of each of the 10 possible claases (0-9), to which an estimator is fit,\n",
    "    this predicts the classes to which the unseen samples belong\n",
    "    \n",
    "    in scikit learn the estimator  implements the methods fit(X,y) and predit(T)"
   ]
  },
  {
   "cell_type": "code",
   "execution_count": 8,
   "metadata": {},
   "outputs": [],
   "source": [
    "from sklearn import svm\n",
    "clf = svm.SVC(gamma=0.001, C=100.)"
   ]
  },
  {
   "cell_type": "markdown",
   "metadata": {},
   "source": [
    "    The _clf_(classifier) is firtly fit to the model, ie it learns from the model. Done\n",
    "    by passingt he training set through the _fit_ emthod.\n",
    "    All images are used to training with the exception of the last, which is used to test."
   ]
  },
  {
   "cell_type": "code",
   "execution_count": 15,
   "metadata": {},
   "outputs": [
    {
     "data": {
      "text/plain": [
       "SVC(C=100.0, cache_size=200, class_weight=None, coef0=0.0,\n",
       "    decision_function_shape='ovr', degree=3, gamma=0.001, kernel='rbf',\n",
       "    max_iter=-1, probability=False, random_state=None, shrinking=True,\n",
       "    tol=0.001, verbose=False)"
      ]
     },
     "execution_count": 15,
     "metadata": {},
     "output_type": "execute_result"
    }
   ],
   "source": [
    "clf.fit(digits.data[:-1], digits.target[:-1])"
   ]
  },
  {
   "cell_type": "markdown",
   "metadata": {},
   "source": [
    "    Simce the estimateor is now trained, it's possible to predict new values\n",
    "    below the last image is passed though the predictor/estimator\n",
    "    the training model has told the estimator that the last inmage is an 8"
   ]
  },
  {
   "cell_type": "code",
   "execution_count": 11,
   "metadata": {},
   "outputs": [
    {
     "data": {
      "text/plain": [
       "array([8])"
      ]
     },
     "execution_count": 11,
     "metadata": {},
     "output_type": "execute_result"
    }
   ],
   "source": [
    "clf.predict(digits.data[-1:])"
   ]
  },
  {
   "cell_type": "code",
   "execution_count": null,
   "metadata": {},
   "outputs": [],
   "source": []
  },
  {
   "cell_type": "code",
   "execution_count": null,
   "metadata": {},
   "outputs": [],
   "source": []
  },
  {
   "cell_type": "code",
   "execution_count": 14,
   "metadata": {},
   "outputs": [
    {
     "data": {
      "text/plain": [
       "array([[0.5488135 , 0.71518934, 0.60276335, ..., 0.4801078 , 0.64386404,\n",
       "        0.5017731 ],\n",
       "       [0.8115185 , 0.476084  , 0.523156  , ..., 0.83000296, 0.9328062 ,\n",
       "        0.30833843],\n",
       "       [0.29264206, 0.56651825, 0.13741443, ..., 0.6965229 , 0.4836966 ,\n",
       "        0.33955073],\n",
       "       ...,\n",
       "       [0.32059506, 0.24986687, 0.03107279, ..., 0.3893891 , 0.93272   ,\n",
       "        0.33276632],\n",
       "       [0.39553738, 0.8440175 , 0.15044175, ..., 0.53561085, 0.35458204,\n",
       "        0.935781  ],\n",
       "       [0.81402713, 0.85133713, 0.43113658, ..., 0.44645575, 0.3601266 ,\n",
       "        0.6258866 ]], dtype=float32)"
      ]
     },
     "execution_count": 14,
     "metadata": {},
     "output_type": "execute_result"
    }
   ],
   "source": []
  },
  {
   "cell_type": "code",
   "execution_count": null,
   "metadata": {},
   "outputs": [],
   "source": []
  },
  {
   "cell_type": "code",
   "execution_count": null,
   "metadata": {},
   "outputs": [],
   "source": []
  },
  {
   "cell_type": "code",
   "execution_count": null,
   "metadata": {},
   "outputs": [],
   "source": []
  }
 ],
 "metadata": {
  "kernelspec": {
   "display_name": "Python 3",
   "language": "python",
   "name": "python3"
  },
  "language_info": {
   "codemirror_mode": {
    "name": "ipython",
    "version": 3
   },
   "file_extension": ".py",
   "mimetype": "text/x-python",
   "name": "python",
   "nbconvert_exporter": "python",
   "pygments_lexer": "ipython3",
   "version": "3.7.4"
  }
 },
 "nbformat": 4,
 "nbformat_minor": 4
}
