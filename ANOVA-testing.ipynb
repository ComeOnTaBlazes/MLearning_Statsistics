{
 "cells": [
  {
   "cell_type": "markdown",
   "metadata": {},
   "source": [
    "# T-Testing & Hypothesis Testing\n",
    "\n",
    "Point estimates and confidence intervals are basic tools for hypothesis ttesting. Statistical hypothesis testing is used to detrmine whether observed data deviates from the expected data. The scipy.stas library contains many functions that we can use to carry out this hypothesis testing.\n",
    "\n",
    "\n",
    "Statistical hypothesis tests are based on a statement called a null hypothsis, this assumes that nothing of note is ocurring between the test varialbes. So if you are analysing if two groups are different, the null hypothesis of this would be that the groups would be the same. In practice, if you wanted to test idf the average age of one premier league football team is differnt from the leagues average, the null hypothesis would be that the average ages of both are the same. \n",
    "\n",
    "\n",
    "The purpose of hypothesis testing is to determine if the null hypothesis  is likely to be true given the sample data provided. If the data cannot make a compelling argument against the null hypothesis, it is accepted to be true. If the argument posed is quite compelling, you will infer that somthign of value or interesting is ocurring within the data. A new hypothesis will be formed, as above it would be that the average age of the team does, in fact, differ from the mean of the league average. \n",
    "\n",
    "\n",
    "\n",
    "With the null & alternative hypothesis defined, we must denote a significance level ($\\alpha$), this is a probability  threshold at which we will reject the null hypothesis. If the probability of getting a result as extreme as the one observed due to chance, then the null hypothsis is rejected in favour of the alternative. The probability of seeing a result as or more extreme than the one observed is known as the p-value.\n",
    "\n",
    "\n",
    "\n",
    "A T-test is the statistical test used to detrmine if a data sample differs from the population, or whether two samples differ from eachother. "
   ]
  },
  {
   "cell_type": "markdown",
   "metadata": {},
   "source": [
    "<br>"
   ]
  },
  {
   "cell_type": "markdown",
   "metadata": {},
   "source": [
    "## One Sample T-test\n",
    "\n",
    "Checks if a group of sample data differ from the population mean. Below I will create some sample data to run this t=test on, and we will see it in practice, but first let's import some python pacakges we will be using in this sheet."
   ]
  },
  {
   "cell_type": "code",
   "execution_count": 5,
   "metadata": {},
   "outputs": [],
   "source": [
    "%matplotlib inline\n",
    "\n",
    "import numpy as np\n",
    "import pandas as pd\n",
    "import scipy.stats as stats\n",
    "import matplotlib.pyplot as plt\n",
    "import math"
   ]
  },
  {
   "cell_type": "code",
   "execution_count": null,
   "metadata": {},
   "outputs": [],
   "source": []
  },
  {
   "cell_type": "code",
   "execution_count": null,
   "metadata": {},
   "outputs": [],
   "source": []
  },
  {
   "cell_type": "code",
   "execution_count": null,
   "metadata": {},
   "outputs": [],
   "source": [
    "#set the seed so tetst is exacly replicable\n",
    "np.random.seed(42)\n",
    "\n",
    "lfc_\n"
   ]
  },
  {
   "cell_type": "code",
   "execution_count": null,
   "metadata": {},
   "outputs": [],
   "source": []
  },
  {
   "cell_type": "code",
   "execution_count": null,
   "metadata": {},
   "outputs": [],
   "source": []
  },
  {
   "cell_type": "code",
   "execution_count": null,
   "metadata": {},
   "outputs": [],
   "source": []
  },
  {
   "cell_type": "code",
   "execution_count": null,
   "metadata": {},
   "outputs": [],
   "source": []
  },
  {
   "cell_type": "code",
   "execution_count": null,
   "metadata": {},
   "outputs": [],
   "source": []
  },
  {
   "cell_type": "code",
   "execution_count": null,
   "metadata": {},
   "outputs": [],
   "source": []
  },
  {
   "cell_type": "code",
   "execution_count": null,
   "metadata": {},
   "outputs": [],
   "source": []
  },
  {
   "cell_type": "code",
   "execution_count": null,
   "metadata": {},
   "outputs": [],
   "source": []
  },
  {
   "cell_type": "code",
   "execution_count": null,
   "metadata": {},
   "outputs": [],
   "source": []
  },
  {
   "cell_type": "code",
   "execution_count": null,
   "metadata": {},
   "outputs": [],
   "source": []
  },
  {
   "cell_type": "code",
   "execution_count": null,
   "metadata": {},
   "outputs": [],
   "source": []
  },
  {
   "cell_type": "code",
   "execution_count": null,
   "metadata": {},
   "outputs": [],
   "source": []
  },
  {
   "cell_type": "code",
   "execution_count": null,
   "metadata": {},
   "outputs": [],
   "source": []
  },
  {
   "cell_type": "code",
   "execution_count": null,
   "metadata": {},
   "outputs": [],
   "source": []
  },
  {
   "cell_type": "code",
   "execution_count": null,
   "metadata": {},
   "outputs": [],
   "source": []
  },
  {
   "cell_type": "code",
   "execution_count": null,
   "metadata": {},
   "outputs": [],
   "source": []
  },
  {
   "cell_type": "code",
   "execution_count": null,
   "metadata": {},
   "outputs": [],
   "source": []
  },
  {
   "cell_type": "code",
   "execution_count": null,
   "metadata": {},
   "outputs": [],
   "source": []
  }
 ],
 "metadata": {
  "kernelspec": {
   "display_name": "Python 3",
   "language": "python",
   "name": "python3"
  },
  "language_info": {
   "codemirror_mode": {
    "name": "ipython",
    "version": 3
   },
   "file_extension": ".py",
   "mimetype": "text/x-python",
   "name": "python",
   "nbconvert_exporter": "python",
   "pygments_lexer": "ipython3",
   "version": "3.7.4"
  }
 },
 "nbformat": 4,
 "nbformat_minor": 4
}
