{
 "cells": [
  {
   "cell_type": "markdown",
   "metadata": {},
   "source": [
    "# T-Testing & Hypothesis Testing\n",
    "***\n",
    "\n",
    "\n",
    "Point estimates and confidence intervals are basic tools for hypothesis testing. Statistical hypothesis testing is used to detrmine whether observed data deviates from the expected data. The scipy.stas library contains many functions that we can use to carry out this hypothesis testing.\n",
    "\n",
    "\n",
    "Statistical hypothesis tests are based on a statement called a null hypothsis, this assumes that nothing of note is ocurring between the test varialbes. So if you are analysing if two groups are different, the null hypothesis of this would be that the groups would be the same. In practice, if you wanted to test idf the average age of one premier league football team is differnt from the leagues average, the null hypothesis would be that the average ages of both are the same. \n",
    "\n",
    "\n",
    "The purpose of hypothesis testing is to determine if the null hypothesis  is likely to be true given the sample data provided. If the data cannot make a compelling argument against the null hypothesis, it is accepted to be true. If the argument posed is quite compelling, you will infer that somthign of value or interesting is ocurring within the data. A new hypothesis will be formed, as above it would be that the average age of the team does, in fact, differ from the mean of the league average. \n",
    "\n",
    "\n",
    "\n",
    "With the null & alternative hypothesis defined, we must denote a significance level ($\\alpha$), this is a probability  threshold at which we will reject the null hypothesis. If the probability of getting a result as extreme as the one observed due to chance, then the null hypothsis is rejected in favour of the alternative. The probability of seeing a result as or more extreme than the one observed is known as the p-value.\n",
    "\n",
    "\n",
    "\n",
    "A T-test is the statistical test used to detrmine if a data sample differs from the population, or whether two samples differ from eachother. "
   ]
  },
  {
   "cell_type": "markdown",
   "metadata": {},
   "source": [
    "<br>"
   ]
  },
  {
   "cell_type": "markdown",
   "metadata": {},
   "source": [
    "## One Sample T-test\n",
    "***\n",
    "\n",
    "Checks if a group of sample data differ from the population mean. Below I will create some sample data to run this t_test on, and we will see it in practice, but first let's import some python pacakges we will be using in this sheet."
   ]
  },
  {
   "cell_type": "code",
   "execution_count": 1,
   "metadata": {},
   "outputs": [],
   "source": [
    "%matplotlib inline\n",
    "\n",
    "import numpy as np\n",
    "import pandas as pd\n",
    "import scipy.stats as stats\n",
    "import matplotlib.pyplot as plt\n",
    "import math\n",
    "from numpy.random import default_rng"
   ]
  },
  {
   "cell_type": "markdown",
   "metadata": {},
   "source": [
    "Below I am going to simulate some data, two sets of populations, one large group, and one smaller, a theortical sample taken from the population. We want to carry out a statistical hypothesis test to validate that the average age of our \"Ros\" sample is lower than that of the over all \"Pop\" data. We know that the overall average is lower, as we have constructed this data to reflect this difference. Will the statitical test flag that there is a significant difference within this data?"
   ]
  },
  {
   "cell_type": "markdown",
   "metadata": {},
   "source": [
    "We know the two means of each dataset are different, so the Null hypotheses that the samples come from the same distribution is not valid, however we will show this using statistical testing."
   ]
  },
  {
   "cell_type": "code",
   "execution_count": 2,
   "metadata": {},
   "outputs": [],
   "source": [
    "#set the seed so test is exacly replicable\n",
    "np.random.seed(42)\n",
    "\n",
    "pop_ages1 = stats.poisson.rvs(loc=18, mu = 35, size = 150000)\n",
    "pop_ages2 = stats.poisson.rvs(loc=18, mu = 10, size = 100000)\n",
    "pop_ages = np.concatenate((pop_ages1, pop_ages2))\n",
    "\n",
    "ros_ages1 = stats.poisson.rvs(loc=18, mu = 30, size = 30)\n",
    "ros_ages2 = stats.poisson.rvs(loc=18, mu = 10, size = 20)\n",
    "ros_ages = np.concatenate((ros_ages1, ros_ages2))"
   ]
  },
  {
   "cell_type": "code",
   "execution_count": 3,
   "metadata": {},
   "outputs": [
    {
     "name": "stdout",
     "output_type": "stream",
     "text": [
      "42.998628\n",
      "39.72\n"
     ]
    }
   ],
   "source": [
    "print(pop_ages.mean())\n",
    "print(ros_ages.mean())"
   ]
  },
  {
   "cell_type": "markdown",
   "metadata": {},
   "source": [
    "Below we will conduct a 95% confidence level T-test to see if it will rightly reject the null hypothesis that the samples come from the same disteibution as the population. We will use the [stats.ttest_1samp()](https://docs.scipy.org/doc/scipy/reference/generated/scipy.stats.ttest_1samp.html) function to do this. \n",
    "\n",
    ">\"This is a two-sided test for the null hypothesis that the expected value (mean) of a sample of independent observations a is equal to the given population mean, popmean.\" REF 1\n",
    "\n",
    "In the below, the arguments are:\n",
    "\n",
    "_a_ - this is our sample data to bop compared.\n",
    "\n",
    "_popmean_ - this is the mean that the sample date is being compared to.\n",
    "\n",
    "Within the results we will be prodivded with a p-value, this p-value is the probability that we will see a result to the extreme of the one observed due to chance. "
   ]
  },
  {
   "cell_type": "code",
   "execution_count": 4,
   "metadata": {},
   "outputs": [
    {
     "data": {
      "text/plain": [
       "Ttest_1sampResult(statistic=-2.1502410346712346, pvalue=0.03649747507423559)"
      ]
     },
     "execution_count": 4,
     "metadata": {},
     "output_type": "execute_result"
    }
   ],
   "source": [
    "stats.ttest_1samp(a = ros_ages, popmean = pop_ages.mean()) "
   ]
  },
  {
   "cell_type": "markdown",
   "metadata": {},
   "source": [
    "So in our case above, there would be roughly a 3.6% chance that there is something of interest within the data, i.e that the null hypothesis can be rejected. \n",
    "\n",
    "The statistic (t-statistic) result of roughly -2.15 here means how much our sample mean deviates from the population mean. If the t-statistic lies outside the quantiles of the t-distribution coresponding to our confidence level and degrees of freedom, we reject the null hypothsis. Essentially, if we see a result that is \"exterme\" enough, something of interest is going on within the data. "
   ]
  },
  {
   "cell_type": "markdown",
   "metadata": {},
   "source": [
    "To check the quantiles, we will use [stats.t.ppf](https://docs.scipy.org/doc/scipy/reference/generated/scipy.stats.t.html), with our 95% confidence interaval, we will have 2.5% in both the bottom & top tails, these will be out q or quantile vlaues. df = degres of freedom, and it is our sample size minus one, or n-1, which will be 49 (len(ros_ages)-1). "
   ]
  },
  {
   "cell_type": "code",
   "execution_count": 5,
   "metadata": {},
   "outputs": [
    {
     "data": {
      "text/plain": [
       "49"
      ]
     },
     "execution_count": 5,
     "metadata": {},
     "output_type": "execute_result"
    }
   ],
   "source": [
    "(len(ros_ages)-1)"
   ]
  },
  {
   "cell_type": "code",
   "execution_count": 6,
   "metadata": {},
   "outputs": [
    {
     "data": {
      "text/plain": [
       "-2.0095752344892093"
      ]
     },
     "execution_count": 6,
     "metadata": {},
     "output_type": "execute_result"
    }
   ],
   "source": [
    "# lower quantile\n",
    "stats.t.ppf(q=0.025, df= 49)"
   ]
  },
  {
   "cell_type": "code",
   "execution_count": 7,
   "metadata": {},
   "outputs": [
    {
     "data": {
      "text/plain": [
       "2.009575234489209"
      ]
     },
     "execution_count": 7,
     "metadata": {},
     "output_type": "execute_result"
    }
   ],
   "source": [
    "# upper quantile inverse of the lower\n",
    "stats.t.ppf(q=0.975, df= 49)"
   ]
  },
  {
   "cell_type": "markdown",
   "metadata": {},
   "source": [
    "Ok, so if our t_statistic lies outside of the above range(+/- of the mean), we can accept our alternative hyptothesis as the result we have observed is far enough away from our population mean that we can consider it different. In this case we can accept that the mean of our ros sample is different to our pop data. We have confirmed, in a statistical manner, what we set our data up to reflect."
   ]
  },
  {
   "cell_type": "markdown",
   "metadata": {},
   "source": [
    "## Two Sample T-test\n",
    "***\n",
    "\n",
    "Another type of test we can carry out is that of comparing another similar sample to our \"ros\" from above, rather than testing against the known populations in the pop, we will compare the two sample means. The [stats.ttest_ind()](https://docs.scipy.org/doc/scipy/reference/generated/scipy.stats.ttest_ind.html) function. Firstly we will need to create this sample dataset, we'll call it \"gal\". Our a argument for the independent test will be our \"ros\" data, and the b will be our \"gal\" data. The equal_var will be false, this lets you specify if the arguments have equal variance."
   ]
  },
  {
   "cell_type": "code",
   "execution_count": 8,
   "metadata": {},
   "outputs": [],
   "source": [
    "np.random.seed(42)\n",
    "\n",
    "gal_ages1 = stats.poisson.rvs(loc=18, mu = 33, size = 30)\n",
    "gal_ages2 = stats.poisson.rvs(loc=18, mu = 13, size = 20)\n",
    "gal_ages = np.concatenate((gal_ages1, gal_ages2))"
   ]
  },
  {
   "cell_type": "code",
   "execution_count": 9,
   "metadata": {},
   "outputs": [
    {
     "data": {
      "text/plain": [
       "42.44"
      ]
     },
     "execution_count": 9,
     "metadata": {},
     "output_type": "execute_result"
    }
   ],
   "source": [
    "gal_ages.mean()"
   ]
  },
  {
   "cell_type": "code",
   "execution_count": 10,
   "metadata": {},
   "outputs": [
    {
     "data": {
      "text/plain": [
       "Ttest_indResult(statistic=-1.2870506937293775, pvalue=0.20111338521248417)"
      ]
     },
     "execution_count": 10,
     "metadata": {},
     "output_type": "execute_result"
    }
   ],
   "source": [
    "stats.ttest_ind(a = ros_ages,\n",
    "               b = gal_ages,\n",
    "               equal_var = False)"
   ]
  },
  {
   "cell_type": "markdown",
   "metadata": {},
   "source": [
    "So our p-value would indicate a 20% chance of the two groups of data were identical if the samples provided are this different. While using a 95% confidence level, the null hypothesis would stand, and we would reject the alternative hypothesis, due to a p-value greater than our significane level of 5%."
   ]
  },
  {
   "cell_type": "markdown",
   "metadata": {},
   "source": [
    "## Type I and Type II Errors\n",
    "***\n",
    "\n",
    "A statistical hypothesis test and call on whether to reject the null hypothesis explored above, is not infallible, it provides statistical evidence upon which a conclusion to accept or reject the hypothesis is made. When this decision is incorrect, it falls into one of two categories, type I & type II errors.\n",
    "\n",
    "A type I error is when the null hypothesis is wrongly rejected, and is often called a \"false positive\" or  \"false hit\". The significance level ($\\alpha$) is the rate of getting a false positive, so having a higher confidence level will  reduce the chances of running into a type I error. \n",
    "\n",
    "Type II errors occur when there is a failure to reject the null hypthesis when it is actually false, commonly known as a \"false negative\" or a \"miss\". The higher the confidence level, the greater your risk of making a type II error. \n",
    "\n",
    "\n",
    "In laymans terms a type I error is when a fire alarm sounds, but there is no fire present in the building, where as a type II error would be the inverse, when a fire is in the building, but the fire alarm has not sounded.\n"
   ]
  },
  {
   "cell_type": "markdown",
   "metadata": {},
   "source": [
    "## Statistical Power\n",
    "***\n",
    "\n",
    "Statistical power is the probability that a statistical test carried out will correctly detect that something interesting is going on with the data provided, i.e when the null hypothesis is rejected. Power is often calculated and reported when an experiment is completed, as part of comment on the confidence on has in the results, it also can be used as an estimator of the number of the sample size required in order to detect an effect.\n",
    "\n",
    "Statistical power is essenitally the probability of accepting the alternative hypothesis. Setups with low statistical power have a large risk of a type II error being committed, a high statitical power has the opposite effect. Therefore it is equal to 1 minus the type II error rate, and is influenced by:\n",
    "\n",
    "- Significance level of the test\n",
    "\n",
    "Determining the significane level of a test leaves you in a situation of choosing between your exposure to a type I or type II error, a larger significane level leads to more type I errors than that with a lower signficance level. The common convention is to have it so the power level of the experiment is at 0.80. \n",
    "\n",
    "- Sample size\n",
    "\n",
    "The larger the sample size the less uncerainty, less tpye II error rates, and an increased power. \n",
    "\n",
    "- Effect size of the test[3]\n",
    "\n",
    "In essence it is the coreelation between the varaibles in the population, often caculated using a specific statistical measure like Pearsons correlation coefficient, or Cohen's d for the difference between groups. In terms of T-tests, we can take effect size to mean the difference in the mean of the samples in terms of standard deviations, so an effect size of 0.5 would mean that a sample mean is 0.5 standard deviations from the other. \n",
    "\n",
    "Combining statistical power with the above 3 factors, we can perform a power analysis. This involves estimating one of the four parameters, given values for the other 3. The most common use of a power analysis is to estimate the minimum sample size required for an experiment. It is possible to perform multiple power analyses and copmpare parameters vs each other, graphing the relationships. \n",
    "\n",
    "Below we will see how to calculate the mimimum sample size, and how the sample size can have an effect on statistical power."
   ]
  },
  {
   "cell_type": "code",
   "execution_count": 11,
   "metadata": {},
   "outputs": [
    {
     "name": "stdout",
     "output_type": "stream",
     "text": [
      "Samples size = 14.30\n"
     ]
    }
   ],
   "source": [
    "# import power analysis class\n",
    "from statsmodels.stats.power import tt_solve_power\n",
    "\n",
    "samples = tt_solve_power(effect_size = 0.8,\n",
    "              alpha = 0.05,\n",
    "              power = 0.8)\n",
    "\n",
    "print(f\"Samples size = {samples:.2f}\")"
   ]
  },
  {
   "cell_type": "markdown",
   "metadata": {},
   "source": [
    "Given the parameters above, we can see that the minimum sample size required would be 14 to make a study with the desired power and signifincane level to see an effect of  the specified size.\n",
    "\n",
    "Below we can see the effect of sample size and effect sizes (low(0.2), medium(0.5) and high(0.8)) on statistical power (y-axis). "
   ]
  },
  {
   "cell_type": "code",
   "execution_count": 12,
   "metadata": {},
   "outputs": [
    {
     "data": {
      "image/png": "[encoded data removed]",
      "text/plain": [
       "<Figure size 432x288 with 1 Axes>"
      ]
     },
     "metadata": {
      "needs_background": "light"
     },
     "output_type": "display_data"
    }
   ],
   "source": [
    "# Below URL is the source forthe below code\n",
    "#https://machinelearningmastery.com/statistical-power-and-power-analysis-in-python/\n",
    "from numpy import array\n",
    "from matplotlib import pyplot\n",
    "from statsmodels.stats.power import TTestIndPower\n",
    "# Set parameters, 3 effect sizes for range of sample sizes\n",
    "effect_sizes = array([0.2, 0.5, 0.8])\n",
    "sample_sizes = array(range(5, 100))\n",
    "# calculate power curves using plot_power function[4]\n",
    "\n",
    "analysis = TTestIndPower()\n",
    "analysis.plot_power(dep_var='nobs', nobs=sample_sizes, effect_size=effect_sizes)\n",
    "pyplot.show()"
   ]
  },
  {
   "cell_type": "code",
   "execution_count": null,
   "metadata": {},
   "outputs": [],
   "source": []
  },
  {
   "cell_type": "markdown",
   "metadata": {},
   "source": [
    "# ANOVA Testing\n",
    "***\n",
    "\n",
    "Previously we have looked at the t-test for looking at two different groups, and comparing if their means are different. T-tests are specific to two group, but often we may need to see how more than two groups stack up against eachother, we use what is called an analysis of variance, commonly known as ANOVA, it lets you compare multiple groups at one time. If we had a large sample population and we wished to see if the average age differed by gender, we would be comparing two groups, and our previous work could easily be applied. However, if we were to comapre the average age by religion, for example, we could split the groups apart and compare them in pairs. This would lead to a much greater possibility of falling for a type II error. \n",
    "\n",
    "In Anova testing, group mean differences are inferred by analysis of the variances from the mean within the sample sets.\n",
    "\n",
    "Uses a vairance based F test, to che check group mean equality. Called an omnibus test - tests non-specific null hypothesis, eg all group means are equal.\n",
    "\n",
    "2 main types - one way factor & two-way factor\n",
    "\n",
    "Also called univariate ANOVA as only one dependent variable is used in the model. MANOVA denotes multi-ANOVA - used when there is multiple dependant variables. \n",
    "\n",
    "Hypothesis of ANOVA:\n",
    "- Null Hyptohesis - that the mgroup mkeans are equal\n",
    "- Alternative HHypothesis - that at least one group's mean is different from the others.\n",
    "\n",
    "Assumpotions of ANOVA\n",
    "\n",
    "Reiduals are approximately normally distributed - Shaprio-Wilks test/ Histogram\n",
    "\n",
    "Homogeneity of variances - variances are equal between treatment groups - Lavene/Bartlett's test\n",
    "\n",
    "Observations are sampled independently from each other\n",
    "\n",
    "Dependent varialbe is continuous"
   ]
  },
  {
   "cell_type": "markdown",
   "metadata": {},
   "source": [
    "### How ANOVA works\n",
    "\n",
    "Check sample sizes\n",
    "Cheak Mean square for each group, degrees of freedom(df) for a group\n",
    "Calculate Mean Square error (MSE)\n",
    "Calculate F value\n",
    "Calculate p value based on F value and df"
   ]
  },
  {
   "cell_type": "markdown",
   "metadata": {},
   "source": []
  },
  {
   "cell_type": "markdown",
   "metadata": {},
   "source": [
    "First we should mock up some date, let's create some data baded on individuals and their religious beliefs, not a controversial or polarising topic at all. We will use 5 variables here, I have gone for hte 5 most popular worldwide religions according to wikipedia[5], rather than use unaffiliated, I have gone for atheist, just to make my life a little easier.\n",
    "\n",
    "Then I am just going to mock up a dataset with random ages and the %s of each of the religions. ( have again made my life easier by just rounding so they sium to 1"
   ]
  },
  {
   "cell_type": "code",
   "execution_count": 13,
   "metadata": {},
   "outputs": [],
   "source": [
    "religions = [\"Christianity\", \"Islam\", \"Atheism\", \"Hinduism\", \"Buddhism\"]\n",
    "percentage_rels = [.34, .26, .16, .16, .08]\n",
    "\n",
    "\n",
    "\n",
    "rng = np.random.default_rng(42)\n",
    "pop_rel = rng.choice(a = religions, p = percentage_rels, size = 1000)\n",
    "\n",
    "#Copying from our above poisson distribution\n",
    "religion_ages = stats.poisson.rvs(loc=18, mu=30, size=1000)\n",
    "\n",
    "#Add both vales to a dataframe\n",
    "religion_df = pd.DataFrame({\"religion\": pop_rel, \"age\": religion_ages})\n",
    "groups = religion_df.groupby(\"religion\").groups\n",
    "\n",
    "# Create varaible for each individual group\n",
    "christian = religion_ages[groups[\"Christianity\"]]\n",
    "islam = religion_ages[groups[\"Islam\"]]\n",
    "atheism = religion_ages[groups[\"Atheism\"]]\n",
    "hinduism = religion_ages[groups[\"Hinduism\"]]\n",
    "buddhism = religion_ages[groups[\"Buddhism\"]]"
   ]
  },
  {
   "cell_type": "code",
   "execution_count": 14,
   "metadata": {
    "scrolled": true
   },
   "outputs": [
    {
     "name": "stdout",
     "output_type": "stream",
     "text": [
      "The F statistic of the religious populations is 1.44, the P-value is 0.22\n"
     ]
    }
   ],
   "source": [
    "# Perform ANOVA Test\n",
    "ANOVA_oneway_stat,  ANOVA_oneway_pval= stats.f_oneway(christian, islam, atheism, hinduism, buddhism)\n",
    "print(f\"The F statistic of the religious populations is {ANOVA_oneway_stat:.2f}, the P-value is {ANOVA_oneway_pval:.2f}\")"
   ]
  },
  {
   "cell_type": "code",
   "execution_count": 15,
   "metadata": {},
   "outputs": [
    {
     "data": {
      "image/png": "[encoded data removed]",
      "text/plain": [
       "<Figure size 432x288 with 1 Axes>"
      ]
     },
     "metadata": {},
     "output_type": "display_data"
    }
   ],
   "source": [
    "import seaborn as sns\n",
    "sns.set_theme(style=\"whitegrid\")\n",
    "ax = sns.boxplot(x=religion_df[\"religion\"], y = religion_df[\"age\"], data = religion_df)\n",
    "ax.title.set_text('Religious Groups & Ages')"
   ]
  },
  {
   "cell_type": "markdown",
   "metadata": {},
   "source": [
    "So, it would appear that the is nothing of significance going on in the dataset, which we could say is accruate given that all the data was ditributed across the same mean when we created the _religion_ages_ variable. Let's see what we can get if we manipulate the data to suit our requirements, let's change get a differently-set distribution for one of our groups. Suppose those who hold a faith have a lower mean age as opposed to those who don't. Let's see what sort a p-value we get when Atheists have a mean age of.....33."
   ]
  },
  {
   "cell_type": "code",
   "execution_count": 16,
   "metadata": {},
   "outputs": [],
   "source": [
    "# Re-create the random dataset\n",
    "\n",
    "religions = [\"Christianity\", \"Islam\", \"Atheism\", \"Hinduism\", \"Buddhism\"]\n",
    "percentage_rels = [.34, .26, .16, .16, .08]\n",
    "\n",
    "\n",
    "rng = np.random.default_rng(42)\n",
    "\n",
    "pop_rel = rng.choice(a = religions, p = percentage_rels, size = 1000)\n",
    "\n",
    "\n",
    "\n",
    "#Copying from our above poisson distribution\n",
    "four_religion_ages = stats.poisson.rvs(loc=18, mu=30, size=1000)\n",
    "atheist_religion_ages = stats.poisson.rvs(loc=18, mu=33, size=1000)\n",
    "\n",
    "#np.where - if condition met pick from x, if not pick from y\n",
    "religion_ages_two = np.where(pop_rel==\"Atheism\", atheist_religion_ages, four_religion_ages)\n",
    "\n",
    "\n",
    "#Add both vales to a dataframe\n",
    "religion_df_two = pd.DataFrame({\"religion\": pop_rel, \"age\": religion_ages})\n",
    "groups = religion_df.groupby(\"religion\").groups\n",
    "\n",
    "# Create varaible for each individual group\n",
    "christian_two = religion_ages_two[groups[\"Christianity\"]]\n",
    "islam_two = religion_ages_two[groups[\"Islam\"]]\n",
    "atheism_two = religion_ages_two[groups[\"Atheism\"]]\n",
    "hinduism_two = religion_ages_two[groups[\"Hinduism\"]]\n",
    "buddhism_two = religion_ages_two[groups[\"Buddhism\"]]"
   ]
  },
  {
   "cell_type": "markdown",
   "metadata": {},
   "source": [
    "Fingers crossed, lets hope that we get the expected result. We are epxecting there to be a p-value indicating that not all the means within the dataset are in line, there is a level of vairance, a p-value of less than 0.05 is the desired outcome."
   ]
  },
  {
   "cell_type": "code",
   "execution_count": 17,
   "metadata": {},
   "outputs": [
    {
     "name": "stdout",
     "output_type": "stream",
     "text": [
      "The F statistic of the religious populations is 10.92, the P-value is 1.1340625852845006e-08\n"
     ]
    }
   ],
   "source": [
    "ANOVA_oneway_stat_two,  ANOVA_oneway_pval_two= stats.f_oneway(christian_two, islam_two, atheism_two, hinduism_two, buddhism_two)\n",
    "print(f\"The F statistic of the religious populations is {ANOVA_oneway_stat_two:.2f}, the P-value is {ANOVA_oneway_pval_two}\")"
   ]
  },
  {
   "cell_type": "code",
   "execution_count": 18,
   "metadata": {},
   "outputs": [
    {
     "data": {
      "image/png": "[encoded data removed]",
      "text/plain": [
       "<Figure size 432x288 with 1 Axes>"
      ]
     },
     "metadata": {},
     "output_type": "display_data"
    }
   ],
   "source": [
    "import seaborn as sns\n",
    "sns.set_theme(style=\"whitegrid\")\n",
    "ax = sns.violinplot(x=religion_df_two[\"religion\"], y = religion_df_two[\"age\"], data = religion_df_two)\n",
    "#ax.title.set_text('Religious Groups & Ages Reloaded')\n",
    "ax.set(ylabel='Age', title ='Religious Groups & Ages Reloaded')\n",
    "ax.set_xlabel(xlabel='Religion', labelpad=12.0,);\n"
   ]
  },
  {
   "cell_type": "code",
   "execution_count": 19,
   "metadata": {},
   "outputs": [
    {
     "name": "stdout",
     "output_type": "stream",
     "text": [
      "47.42329545454545\n",
      "48.44223107569721\n",
      "50.93197278911565\n",
      "48.2906976744186\n",
      "47.8974358974359\n"
     ]
    }
   ],
   "source": [
    "print(religion_ages_two[groups[\"Christianity\"]].mean())\n",
    "print(religion_ages_two[groups[\"Islam\"]].mean())\n",
    "print(religion_ages_two[groups[\"Atheism\"]].mean())\n",
    "print(religion_ages_two[groups[\"Hinduism\"]].mean())\n",
    "print(religion_ages_two[groups[\"Buddhism\"]].mean())\n"
   ]
  },
  {
   "cell_type": "markdown",
   "metadata": {},
   "source": [
    "Well, what a surprise! That worked exactly as we expected. So we can see how changing the mean will affect our p-value, so in the dataset we have created, _religion_df_two_, at least one of the averages ages is not in line with the other groups, but how do we know which? Below we will explore some \"post-hoc tests\"   to see how we would pin-point where the interest occurs. Firstly, lets compare each of the groups individually, with t-tests like we have done above. "
   ]
  },
  {
   "cell_type": "code",
   "execution_count": 20,
   "metadata": {},
   "outputs": [
    {
     "name": "stdout",
     "output_type": "stream",
     "text": [
      "Pair of Christianity and Islam has a p_value of 0.021040189591706268\n",
      "The mean age of Christianity is 47.42329545454545 and of Islam is 48.44223107569721\n",
      "\n",
      "Pair of Christianity and Atheism has a p_value of 3.972757766857085e-11\n",
      "The mean age of Christianity is 47.42329545454545 and of Atheism is 50.93197278911565\n",
      "\n",
      "Pair of Islam and Atheism has a p_value of 2.6232486399316734e-05\n",
      "The mean age of Islam is 48.44223107569721 and of Atheism is 50.93197278911565\n",
      "\n",
      "Pair of Atheism and Hinduism has a p_value of 6.231545007043036e-05\n",
      "The mean age of Atheism is 50.93197278911565 and of Hinduism is 48.2906976744186\n",
      "\n",
      "Pair of Atheism and Buddhism has a p_value of 8.935705463699627e-05\n",
      "The mean age of Atheism is 50.93197278911565 and of Buddhism is 47.8974358974359\n",
      "\n"
     ]
    }
   ],
   "source": [
    "rel_pairs = []\n",
    "\n",
    "# nested loop to create pairs of items in the list\n",
    "for rel_one in range(len(religions)+1):\n",
    "    # start at next value to rel_one for len list\n",
    "    for rel_two in range((rel_one+1),(len(religions))):\n",
    "        #append list items to rel_pairs list\n",
    "        rel_pairs.append((religions[rel_one], religions[rel_two]))\n",
    "        \n",
    "#Lets get our ANOVA test data\n",
    "for rel_one, rel_two in rel_pairs:\n",
    "    #This line just assigns variable names to the F statistic & p-value output from the ANOVA test used to ease printing\n",
    "    anova_stats, anova_pvals=(stats.ttest_ind(religion_ages_two[groups[rel_one]], \n",
    "                          religion_ages_two[groups[rel_two]]))\n",
    "    if anova_pvals < 0.01:\n",
    "        print(f\"Pair of {rel_one} and {rel_two} has a p_value of {anova_pvals}\")\n",
    "        mean_one, mean_two = religion_ages_two[groups[rel_one]].mean(), religion_ages_two[groups[rel_two]].mean()\n",
    "        print(f\"The mean age of {rel_one} is {mean_one} and of {rel_two} is {mean_two}\\n\")\n",
    "    elif anova_pvals < 0.05:\n",
    "        print(f\"Pair of {rel_one} and {rel_two} has a p_value of {anova_pvals}\")\n",
    "        mean_one, mean_two = religion_ages_two[groups[rel_one]].mean(), religion_ages_two[groups[rel_two]].mean()\n",
    "        print(f\"The mean age of {rel_one} is {mean_one} and of {rel_two} is {mean_two}\\n\")"
   ]
  },
  {
   "cell_type": "markdown",
   "metadata": {},
   "source": [
    "So funnily enough, when preparing the data, there was an interesting difference between Christianity and Islam mean ages, but it is just over 2%. Had this been two samples taken from a larger pool we can see how eay it is to run into a false positive or Type I error. This is a prime example of an unlikely result due to chance, which conveniently leads us to a correction we will be making to the significance level required, the Bonferroni Correction[6](https://mathworld.wolfram.com/BonferroniCorrection.html). This correction states that \"the alpha value needs to be lowered to account for the number of comparisons being performed\", in other words, our significance level will need to be adjusted to account for the number of comparisons made, in our case the length of our rel_pairs array (10). So we are looking for p-values of 0.5%, or 0.005. The Bonferroni Correction is not a foll proof methd, and can end up overlooking results of significance, if say we were to complete 100 comparisons, and a further deciaml movement was included in the correction, do you belive that 1/10,000 is a significant probaility of the even arising due to chance? I'd probably play the lotto every week, but wouldn't put my life in it's hands.\n",
    "\n",
    "\n",
    "Fixing this issue would require changing the level of significance, from 5% to 1%. For the purposes of this explaination we will just consider the differences in the means that have a very low percentage of being down to chance. Initially I talked aboutt he benefit of running an ANOVA test is that you dont have to run t-tests for each pair within the group. So is that just to see if there is something interesting going on within the data? "
   ]
  },
  {
   "cell_type": "code",
   "execution_count": null,
   "metadata": {},
   "outputs": [],
   "source": []
  },
  {
   "cell_type": "code",
   "execution_count": null,
   "metadata": {},
   "outputs": [],
   "source": []
  },
  {
   "cell_type": "code",
   "execution_count": null,
   "metadata": {},
   "outputs": [],
   "source": []
  },
  {
   "cell_type": "code",
   "execution_count": null,
   "metadata": {},
   "outputs": [],
   "source": []
  },
  {
   "cell_type": "code",
   "execution_count": null,
   "metadata": {},
   "outputs": [],
   "source": []
  },
  {
   "cell_type": "code",
   "execution_count": null,
   "metadata": {},
   "outputs": [],
   "source": []
  },
  {
   "cell_type": "code",
   "execution_count": null,
   "metadata": {},
   "outputs": [],
   "source": []
  },
  {
   "cell_type": "code",
   "execution_count": null,
   "metadata": {},
   "outputs": [],
   "source": []
  },
  {
   "cell_type": "code",
   "execution_count": null,
   "metadata": {},
   "outputs": [],
   "source": []
  },
  {
   "cell_type": "code",
   "execution_count": null,
   "metadata": {},
   "outputs": [],
   "source": []
  },
  {
   "cell_type": "code",
   "execution_count": null,
   "metadata": {},
   "outputs": [],
   "source": []
  },
  {
   "cell_type": "code",
   "execution_count": null,
   "metadata": {},
   "outputs": [],
   "source": []
  },
  {
   "cell_type": "code",
   "execution_count": null,
   "metadata": {},
   "outputs": [],
   "source": []
  },
  {
   "cell_type": "markdown",
   "metadata": {},
   "source": [
    "***\n",
    "__Below needs deleting/amending__\n",
    "\n",
    "Below we are going to try to run an ANOVA test on quite a famous dataset, the [Pima Indians Diabetes dataset](https://data.world/data-society/pima-indians-diabetes-database) and see how our variances line \n",
    "up.\n",
    "***"
   ]
  },
  {
   "cell_type": "code",
   "execution_count": null,
   "metadata": {},
   "outputs": [],
   "source": []
  },
  {
   "cell_type": "code",
   "execution_count": null,
   "metadata": {},
   "outputs": [],
   "source": []
  },
  {
   "cell_type": "code",
   "execution_count": null,
   "metadata": {},
   "outputs": [],
   "source": []
  },
  {
   "cell_type": "code",
   "execution_count": null,
   "metadata": {},
   "outputs": [],
   "source": []
  },
  {
   "cell_type": "code",
   "execution_count": null,
   "metadata": {},
   "outputs": [],
   "source": []
  },
  {
   "cell_type": "markdown",
   "metadata": {},
   "source": [
    "References: https://docs.scipy.org/doc/scipy/reference/generated/scipy.stats.ttest_1samp.html\n",
    "\n",
    "\n",
    "\n",
    "https://machinelearningmastery.com/statistical-power-and-power-analysis-in-python/\n",
    "\n",
    "\n",
    "3. https://en.wikipedia.org/wiki/Effect_size\n",
    "\n",
    "4.  https://www.statsmodels.org/dev/generated/statsmodels.stats.power.TTestIndPower.plot_power.html\n",
    "\n",
    "5. https://en.wikipedia.org/wiki/List_of_religious_populations"
   ]
  },
  {
   "cell_type": "code",
   "execution_count": null,
   "metadata": {},
   "outputs": [],
   "source": []
  }
 ],
 "metadata": {
  "kernelspec": {
   "display_name": "Python 3",
   "language": "python",
   "name": "python3"
  },
  "language_info": {
   "codemirror_mode": {
    "name": "ipython",
    "version": 3
   },
   "file_extension": ".py",
   "mimetype": "text/x-python",
   "name": "python",
   "nbconvert_exporter": "python",
   "pygments_lexer": "ipython3",
   "version": "3.7.4"
  }
 },
 "nbformat": 4,
 "nbformat_minor": 4
}
